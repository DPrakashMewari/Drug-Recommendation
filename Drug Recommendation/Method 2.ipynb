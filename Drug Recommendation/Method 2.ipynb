{
 "cells": [
  {
   "cell_type": "code",
   "execution_count": 110,
   "metadata": {},
   "outputs": [],
   "source": [
    "import pandas as pd \n",
    "import numpy as np\n",
    "import seaborn as sns\n",
    "import matplotlib.pyplot as plt\n",
    "import seaborn as sns\n",
    "import datetime as dt\n",
    "import nltk\n",
    "from nltk.stem import PorterStemmer\n",
    "stemming = PorterStemmer()\n",
    "from nltk.corpus import stopwords\n",
    "stops = set(stopwords.words(\"english\")) \n",
    "import sidetable as stb\n",
    "import datetime as dt\n",
    "import textblob \n",
    "from textblob import TextBlob"
   ]
  },
  {
   "cell_type": "code",
   "execution_count": 2,
   "metadata": {},
   "outputs": [],
   "source": [
    "review = pd.read_csv(\"drugreview.csv\",usecols=[1,2,3,4,5,6])"
   ]
  },
  {
   "cell_type": "code",
   "execution_count": 3,
   "metadata": {},
   "outputs": [
    {
     "data": {
      "text/html": [
       "<div>\n",
       "<style scoped>\n",
       "    .dataframe tbody tr th:only-of-type {\n",
       "        vertical-align: middle;\n",
       "    }\n",
       "\n",
       "    .dataframe tbody tr th {\n",
       "        vertical-align: top;\n",
       "    }\n",
       "\n",
       "    .dataframe thead th {\n",
       "        text-align: right;\n",
       "    }\n",
       "</style>\n",
       "<table border=\"1\" class=\"dataframe\">\n",
       "  <thead>\n",
       "    <tr style=\"text-align: right;\">\n",
       "      <th></th>\n",
       "      <th>drugName</th>\n",
       "      <th>condition</th>\n",
       "      <th>review</th>\n",
       "      <th>rating</th>\n",
       "      <th>date</th>\n",
       "      <th>usefulCount</th>\n",
       "    </tr>\n",
       "  </thead>\n",
       "  <tbody>\n",
       "    <tr>\n",
       "      <th>2</th>\n",
       "      <td>Bactrim</td>\n",
       "      <td>Urinary Tract Infection</td>\n",
       "      <td>\"Quick reduction of symptoms\"</td>\n",
       "      <td>9</td>\n",
       "      <td>September 29, 2017</td>\n",
       "      <td>3</td>\n",
       "    </tr>\n",
       "    <tr>\n",
       "      <th>3</th>\n",
       "      <td>Contrave</td>\n",
       "      <td>Weight Loss</td>\n",
       "      <td>\"Contrave combines drugs that were used for al...</td>\n",
       "      <td>9</td>\n",
       "      <td>March 5, 2017</td>\n",
       "      <td>35</td>\n",
       "    </tr>\n",
       "    <tr>\n",
       "      <th>4</th>\n",
       "      <td>Cyclafem 1 / 35</td>\n",
       "      <td>Birth Control</td>\n",
       "      <td>\"I have been on this birth control for one cyc...</td>\n",
       "      <td>9</td>\n",
       "      <td>October 22, 2015</td>\n",
       "      <td>4</td>\n",
       "    </tr>\n",
       "    <tr>\n",
       "      <th>5</th>\n",
       "      <td>Zyclara</td>\n",
       "      <td>Keratosis</td>\n",
       "      <td>\"4 days in on first 2 weeks.  Using on arms an...</td>\n",
       "      <td>4</td>\n",
       "      <td>July 3, 2014</td>\n",
       "      <td>13</td>\n",
       "    </tr>\n",
       "  </tbody>\n",
       "</table>\n",
       "</div>"
      ],
      "text/plain": [
       "          drugName                condition  \\\n",
       "2          Bactrim  Urinary Tract Infection   \n",
       "3         Contrave              Weight Loss   \n",
       "4  Cyclafem 1 / 35            Birth Control   \n",
       "5          Zyclara                Keratosis   \n",
       "\n",
       "                                              review  rating  \\\n",
       "2                      \"Quick reduction of symptoms\"       9   \n",
       "3  \"Contrave combines drugs that were used for al...       9   \n",
       "4  \"I have been on this birth control for one cyc...       9   \n",
       "5  \"4 days in on first 2 weeks.  Using on arms an...       4   \n",
       "\n",
       "                 date  usefulCount  \n",
       "2  September 29, 2017            3  \n",
       "3       March 5, 2017           35  \n",
       "4    October 22, 2015            4  \n",
       "5        July 3, 2014           13  "
      ]
     },
     "execution_count": 3,
     "metadata": {},
     "output_type": "execute_result"
    }
   ],
   "source": [
    "review.loc[2:5]\n"
   ]
  },
  {
   "cell_type": "code",
   "execution_count": 4,
   "metadata": {},
   "outputs": [],
   "source": [
    "review.columns=review.columns.str.lower()"
   ]
  },
  {
   "cell_type": "code",
   "execution_count": 5,
   "metadata": {},
   "outputs": [
    {
     "data": {
      "text/plain": [
       "drugname       object\n",
       "condition      object\n",
       "review         object\n",
       "rating          int64\n",
       "date           object\n",
       "usefulcount     int64\n",
       "dtype: object"
      ]
     },
     "execution_count": 5,
     "metadata": {},
     "output_type": "execute_result"
    }
   ],
   "source": [
    "review.dtypes"
   ]
  },
  {
   "cell_type": "code",
   "execution_count": 6,
   "metadata": {},
   "outputs": [
    {
     "data": {
      "text/html": [
       "<div>\n",
       "<style scoped>\n",
       "    .dataframe tbody tr th:only-of-type {\n",
       "        vertical-align: middle;\n",
       "    }\n",
       "\n",
       "    .dataframe tbody tr th {\n",
       "        vertical-align: top;\n",
       "    }\n",
       "\n",
       "    .dataframe thead th {\n",
       "        text-align: right;\n",
       "    }\n",
       "</style>\n",
       "<table border=\"1\" class=\"dataframe\">\n",
       "  <thead>\n",
       "    <tr style=\"text-align: right;\">\n",
       "      <th></th>\n",
       "      <th>drugname</th>\n",
       "      <th>condition</th>\n",
       "      <th>review</th>\n",
       "      <th>rating</th>\n",
       "      <th>date</th>\n",
       "      <th>usefulcount</th>\n",
       "      <th>year</th>\n",
       "      <th>month</th>\n",
       "      <th>day</th>\n",
       "    </tr>\n",
       "  </thead>\n",
       "  <tbody>\n",
       "    <tr>\n",
       "      <th>5</th>\n",
       "      <td>Zyclara</td>\n",
       "      <td>Keratosis</td>\n",
       "      <td>\"4 days in on first 2 weeks.  Using on arms an...</td>\n",
       "      <td>4</td>\n",
       "      <td>2014-07-03</td>\n",
       "      <td>13</td>\n",
       "      <td>2014</td>\n",
       "      <td>7</td>\n",
       "      <td>3</td>\n",
       "    </tr>\n",
       "    <tr>\n",
       "      <th>6</th>\n",
       "      <td>Copper</td>\n",
       "      <td>Birth Control</td>\n",
       "      <td>\"I&amp;#039;ve had the copper coil for about 3 mon...</td>\n",
       "      <td>6</td>\n",
       "      <td>2016-06-06</td>\n",
       "      <td>1</td>\n",
       "      <td>2016</td>\n",
       "      <td>6</td>\n",
       "      <td>6</td>\n",
       "    </tr>\n",
       "    <tr>\n",
       "      <th>7</th>\n",
       "      <td>Amitriptyline</td>\n",
       "      <td>Migraine Prevention</td>\n",
       "      <td>\"This has been great for me. I&amp;#039;ve been on...</td>\n",
       "      <td>9</td>\n",
       "      <td>2009-04-21</td>\n",
       "      <td>32</td>\n",
       "      <td>2009</td>\n",
       "      <td>4</td>\n",
       "      <td>21</td>\n",
       "    </tr>\n",
       "    <tr>\n",
       "      <th>8</th>\n",
       "      <td>Methadone</td>\n",
       "      <td>Opiate Withdrawal</td>\n",
       "      <td>\"Ive been on Methadone for over ten years and ...</td>\n",
       "      <td>7</td>\n",
       "      <td>2016-10-18</td>\n",
       "      <td>21</td>\n",
       "      <td>2016</td>\n",
       "      <td>10</td>\n",
       "      <td>18</td>\n",
       "    </tr>\n",
       "    <tr>\n",
       "      <th>9</th>\n",
       "      <td>Levora</td>\n",
       "      <td>Birth Control</td>\n",
       "      <td>\"I was on this pill for almost two years. It d...</td>\n",
       "      <td>2</td>\n",
       "      <td>2011-04-16</td>\n",
       "      <td>3</td>\n",
       "      <td>2011</td>\n",
       "      <td>4</td>\n",
       "      <td>16</td>\n",
       "    </tr>\n",
       "    <tr>\n",
       "      <th>10</th>\n",
       "      <td>Paroxetine</td>\n",
       "      <td>Hot Flashes</td>\n",
       "      <td>\"Holy Hell is exactly how I feel. I had been t...</td>\n",
       "      <td>1</td>\n",
       "      <td>2017-02-22</td>\n",
       "      <td>17</td>\n",
       "      <td>2017</td>\n",
       "      <td>2</td>\n",
       "      <td>22</td>\n",
       "    </tr>\n",
       "  </tbody>\n",
       "</table>\n",
       "</div>"
      ],
      "text/plain": [
       "         drugname            condition  \\\n",
       "5         Zyclara            Keratosis   \n",
       "6          Copper        Birth Control   \n",
       "7   Amitriptyline  Migraine Prevention   \n",
       "8       Methadone    Opiate Withdrawal   \n",
       "9          Levora        Birth Control   \n",
       "10     Paroxetine          Hot Flashes   \n",
       "\n",
       "                                               review  rating       date  \\\n",
       "5   \"4 days in on first 2 weeks.  Using on arms an...       4 2014-07-03   \n",
       "6   \"I&#039;ve had the copper coil for about 3 mon...       6 2016-06-06   \n",
       "7   \"This has been great for me. I&#039;ve been on...       9 2009-04-21   \n",
       "8   \"Ive been on Methadone for over ten years and ...       7 2016-10-18   \n",
       "9   \"I was on this pill for almost two years. It d...       2 2011-04-16   \n",
       "10  \"Holy Hell is exactly how I feel. I had been t...       1 2017-02-22   \n",
       "\n",
       "    usefulcount  year  month  day  \n",
       "5            13  2014      7    3  \n",
       "6             1  2016      6    6  \n",
       "7            32  2009      4   21  \n",
       "8            21  2016     10   18  \n",
       "9             3  2011      4   16  \n",
       "10           17  2017      2   22  "
      ]
     },
     "execution_count": 6,
     "metadata": {},
     "output_type": "execute_result"
    }
   ],
   "source": [
    "# preprocessing : \n",
    "review['date']=pd.to_datetime(review['date'])\n",
    "review['year'] = review['date'].dt.year\n",
    "review['month'] = review['date'].dt.month\n",
    "review['day'] =review['date'].dt.day\n",
    "review.loc[5:10]"
   ]
  },
  {
   "cell_type": "code",
   "execution_count": 7,
   "metadata": {},
   "outputs": [
    {
     "data": {
      "text/plain": [
       "drugname               object\n",
       "condition              object\n",
       "review                 object\n",
       "rating                  int64\n",
       "date           datetime64[ns]\n",
       "usefulcount             int64\n",
       "year                    int64\n",
       "month                   int64\n",
       "day                     int64\n",
       "dtype: object"
      ]
     },
     "execution_count": 7,
     "metadata": {},
     "output_type": "execute_result"
    }
   ],
   "source": [
    "review.dtypes"
   ]
  },
  {
   "cell_type": "code",
   "execution_count": 8,
   "metadata": {},
   "outputs": [
    {
     "data": {
      "text/plain": [
       "Levonorgestrel                        497\n",
       "Phentermine                           272\n",
       "Etonogestrel                          224\n",
       "Varenicline                           187\n",
       "Clonazepam                            154\n",
       "Ethinyl estradiol / norethindrone     148\n",
       "Escitalopram                          143\n",
       "Sertraline                            141\n",
       "Alprazolam                            134\n",
       "Chantix                               124\n",
       "Mirena                                122\n",
       "Nexplanon                             121\n",
       "Liraglutide                           115\n",
       "Ethinyl estradiol / levonorgestrel    115\n",
       "Plan B                                114\n",
       "Lexapro                               113\n",
       "Belviq                                112\n",
       "Implanon                              112\n",
       "Bupropion                             110\n",
       "Gabapentin                            107\n",
       "Name: drugname, dtype: int64"
      ]
     },
     "execution_count": 8,
     "metadata": {},
     "output_type": "execute_result"
    }
   ],
   "source": [
    "# Rating count   ----  10 \n",
    "review.loc[review['rating'] == 10,:]['drugname'].value_counts().head(20)"
   ]
  },
  {
   "cell_type": "code",
   "execution_count": 9,
   "metadata": {},
   "outputs": [
    {
     "data": {
      "text/plain": [
       "Etonogestrel                          87\n",
       "Levonorgestrel                        87\n",
       "Ethinyl estradiol / norethindrone     67\n",
       "Nexplanon                             57\n",
       "Ethinyl estradiol / levonorgestrel    57\n",
       "Ethinyl estradiol / norgestimate      56\n",
       "Implanon                              38\n",
       "Mirena                                36\n",
       "Metronidazole                         26\n",
       "Miconazole                            26\n",
       "Contrave                              21\n",
       "Skyla                                 21\n",
       "Ethinyl estradiol / etonogestrel      21\n",
       "Sertraline                            20\n",
       "Drospirenone / ethinyl estradiol      20\n",
       "Desogestrel / ethinyl estradiol       19\n",
       "NuvaRing                              19\n",
       "Bupropion                             19\n",
       "Quetiapine                            18\n",
       "Medroxyprogesterone                   18\n",
       "Name: drugname, dtype: int64"
      ]
     },
     "execution_count": 9,
     "metadata": {},
     "output_type": "execute_result"
    }
   ],
   "source": [
    "# rating count by  5 \n",
    "\n",
    "review.loc[review['rating'] == 5,:]['drugname'].value_counts().head(20)"
   ]
  },
  {
   "cell_type": "code",
   "execution_count": 10,
   "metadata": {},
   "outputs": [
    {
     "data": {
      "text/plain": [
       "Miconazole                            199\n",
       "Etonogestrel                          183\n",
       "Ethinyl estradiol / norethindrone     165\n",
       "Nexplanon                             133\n",
       "Levonorgestrel                        132\n",
       "Ethinyl estradiol / norgestimate      127\n",
       "Tioconazole                           122\n",
       "Ethinyl estradiol / levonorgestrel    105\n",
       "Medroxyprogesterone                   102\n",
       "Depo-Provera                           91\n",
       "Duloxetine                             64\n",
       "Mirena                                 59\n",
       "Sertraline                             52\n",
       "Implanon                               51\n",
       "Bisacodyl                              50\n",
       "Bupropion / naltrexone                 47\n",
       "Tramadol                               47\n",
       "Gabapentin                             45\n",
       "Lo Loestrin Fe                         45\n",
       "Cymbalta                               45\n",
       "Name: drugname, dtype: int64"
      ]
     },
     "execution_count": 10,
     "metadata": {},
     "output_type": "execute_result"
    }
   ],
   "source": [
    "review.loc[review['rating'] == 1,:]['drugname'].value_counts().head(20)"
   ]
  },
  {
   "cell_type": "code",
   "execution_count": 11,
   "metadata": {},
   "outputs": [],
   "source": [
    "#\n",
    "mean_rating = dict(review.groupby(review['date'].dt.year)['rating'].mean())"
   ]
  },
  {
   "cell_type": "code",
   "execution_count": 12,
   "metadata": {},
   "outputs": [
    {
     "data": {
      "text/plain": [
       "(dict_keys([2008, 2009, 2010, 2011, 2012, 2013, 2014, 2015, 2016, 2017]),\n",
       " dict_values([8.862257281553399, 7.398152770843734, 7.528784648187633, 7.543743372216331, 7.544888888888889, 8.133300661602549, 8.001233654083395, 6.896101019051839, 6.172800679983, 5.992085862966175]))"
      ]
     },
     "execution_count": 12,
     "metadata": {},
     "output_type": "execute_result"
    }
   ],
   "source": [
    "mean_rating.keys(),mean_rating.values()"
   ]
  },
  {
   "cell_type": "code",
   "execution_count": 13,
   "metadata": {},
   "outputs": [
    {
     "data": {
      "text/plain": [
       "Text(0, 0.5, 'Rating')"
      ]
     },
     "execution_count": 13,
     "metadata": {},
     "output_type": "execute_result"
    },
    {
     "data": {
      "image/png": "[encoded data removed]",
      "text/plain": [
       "<Figure size 864x504 with 1 Axes>"
      ]
     },
     "metadata": {},
     "output_type": "display_data"
    }
   ],
   "source": [
    "# Year wise mean Rating -----\n",
    "\n",
    "plt.rcParams['figure.figsize'] = [12, 7]\n",
    "sns.set(font_scale = 1.2, style = 'darkgrid')\n",
    "sns_ = sns.barplot(x = list(mean_rating.keys()), y = list(mean_rating.values()), color = 'salmon');\n",
    "sns_.set_xlabel(\"Year\")\n",
    "sns_.set_ylabel(\"Rating\")"
   ]
  },
  {
   "cell_type": "code",
   "execution_count": 14,
   "metadata": {},
   "outputs": [],
   "source": [
    "# Top 100 drugs here \n",
    "\n",
    "\n"
   ]
  },
  {
   "cell_type": "code",
   "execution_count": 15,
   "metadata": {},
   "outputs": [],
   "source": [
    "# Clean columns : Review columnns\n",
    "def review_clean(review): \n",
    "    # changing to lower case\n",
    "    lower = review.str.lower()\n",
    "    # Replacing the repeating pattern of &#039;\n",
    "    pattern_remove = lower.str.replace(\"&#039;\", \"\")\n",
    "    # Removing all the special Characters\n",
    "    special_remove = pattern_remove.str.replace(r'[^\\w\\d\\s]',' ')\n",
    "    # Removing all the non ASCII characters\n",
    "    ascii_remove = special_remove.str.replace(r'[^\\x00-\\x7F]+',' ')\n",
    "    # Removing the leading and trailing Whitespaces\n",
    "    whitespace_remove = ascii_remove.str.replace(r'^\\s+|\\s+?$','')\n",
    "    # Replacing multiple Spaces with Single Space\n",
    "    multiw_remove = whitespace_remove.str.replace(r'\\s+',' ')\n",
    "    # Replacing Two or more dots with one\n",
    "    cleannum = multiw_remove.str.replace(r'\\.{2,}', ' ')\n",
    "    # cleaning numbers\n",
    "    dataframe = cleannum.str.replace('\\d+', '')\n",
    "    \n",
    "    return dataframe"
   ]
  },
  {
   "cell_type": "code",
   "execution_count": 16,
   "metadata": {},
   "outputs": [
    {
     "data": {
      "text/html": [
       "<div>\n",
       "<style scoped>\n",
       "    .dataframe tbody tr th:only-of-type {\n",
       "        vertical-align: middle;\n",
       "    }\n",
       "\n",
       "    .dataframe tbody tr th {\n",
       "        vertical-align: top;\n",
       "    }\n",
       "\n",
       "    .dataframe thead th {\n",
       "        text-align: right;\n",
       "    }\n",
       "</style>\n",
       "<table border=\"1\" class=\"dataframe\">\n",
       "  <thead>\n",
       "    <tr style=\"text-align: right;\">\n",
       "      <th></th>\n",
       "      <th>drugname</th>\n",
       "      <th>condition</th>\n",
       "      <th>review</th>\n",
       "      <th>rating</th>\n",
       "      <th>date</th>\n",
       "      <th>usefulcount</th>\n",
       "      <th>year</th>\n",
       "      <th>month</th>\n",
       "      <th>day</th>\n",
       "    </tr>\n",
       "  </thead>\n",
       "  <tbody>\n",
       "    <tr>\n",
       "      <th>0</th>\n",
       "      <td>Mirtazapine</td>\n",
       "      <td>Depression</td>\n",
       "      <td>ive tried a few antidepressants over the years...</td>\n",
       "      <td>10</td>\n",
       "      <td>2012-02-28</td>\n",
       "      <td>22</td>\n",
       "      <td>2012</td>\n",
       "      <td>2</td>\n",
       "      <td>28</td>\n",
       "    </tr>\n",
       "    <tr>\n",
       "      <th>1</th>\n",
       "      <td>Mesalamine</td>\n",
       "      <td>Crohn's Disease, Maintenance</td>\n",
       "      <td>my son has crohns disease and has done very we...</td>\n",
       "      <td>8</td>\n",
       "      <td>2009-05-17</td>\n",
       "      <td>17</td>\n",
       "      <td>2009</td>\n",
       "      <td>5</td>\n",
       "      <td>17</td>\n",
       "    </tr>\n",
       "    <tr>\n",
       "      <th>2</th>\n",
       "      <td>Bactrim</td>\n",
       "      <td>Urinary Tract Infection</td>\n",
       "      <td>quick reduction of symptoms</td>\n",
       "      <td>9</td>\n",
       "      <td>2017-09-29</td>\n",
       "      <td>3</td>\n",
       "      <td>2017</td>\n",
       "      <td>9</td>\n",
       "      <td>29</td>\n",
       "    </tr>\n",
       "    <tr>\n",
       "      <th>3</th>\n",
       "      <td>Contrave</td>\n",
       "      <td>Weight Loss</td>\n",
       "      <td>contrave combines drugs that were used for alc...</td>\n",
       "      <td>9</td>\n",
       "      <td>2017-03-05</td>\n",
       "      <td>35</td>\n",
       "      <td>2017</td>\n",
       "      <td>3</td>\n",
       "      <td>5</td>\n",
       "    </tr>\n",
       "    <tr>\n",
       "      <th>4</th>\n",
       "      <td>Cyclafem 1 / 35</td>\n",
       "      <td>Birth Control</td>\n",
       "      <td>i have been on this birth control for one cycl...</td>\n",
       "      <td>9</td>\n",
       "      <td>2015-10-22</td>\n",
       "      <td>4</td>\n",
       "      <td>2015</td>\n",
       "      <td>10</td>\n",
       "      <td>22</td>\n",
       "    </tr>\n",
       "    <tr>\n",
       "      <th>...</th>\n",
       "      <td>...</td>\n",
       "      <td>...</td>\n",
       "      <td>...</td>\n",
       "      <td>...</td>\n",
       "      <td>...</td>\n",
       "      <td>...</td>\n",
       "      <td>...</td>\n",
       "      <td>...</td>\n",
       "      <td>...</td>\n",
       "    </tr>\n",
       "    <tr>\n",
       "      <th>53761</th>\n",
       "      <td>Tamoxifen</td>\n",
       "      <td>Breast Cancer, Prevention</td>\n",
       "      <td>i have taken tamoxifen for  years side effects...</td>\n",
       "      <td>10</td>\n",
       "      <td>2014-09-13</td>\n",
       "      <td>43</td>\n",
       "      <td>2014</td>\n",
       "      <td>9</td>\n",
       "      <td>13</td>\n",
       "    </tr>\n",
       "    <tr>\n",
       "      <th>53762</th>\n",
       "      <td>Escitalopram</td>\n",
       "      <td>Anxiety</td>\n",
       "      <td>ive been taking lexapro escitaploprgram since ...</td>\n",
       "      <td>9</td>\n",
       "      <td>2016-10-08</td>\n",
       "      <td>11</td>\n",
       "      <td>2016</td>\n",
       "      <td>10</td>\n",
       "      <td>8</td>\n",
       "    </tr>\n",
       "    <tr>\n",
       "      <th>53763</th>\n",
       "      <td>Levonorgestrel</td>\n",
       "      <td>Birth Control</td>\n",
       "      <td>im married  years old and i have no kids takin...</td>\n",
       "      <td>8</td>\n",
       "      <td>2010-11-15</td>\n",
       "      <td>7</td>\n",
       "      <td>2010</td>\n",
       "      <td>11</td>\n",
       "      <td>15</td>\n",
       "    </tr>\n",
       "    <tr>\n",
       "      <th>53764</th>\n",
       "      <td>Tapentadol</td>\n",
       "      <td>Pain</td>\n",
       "      <td>i was prescribed nucynta for severe neck shoul...</td>\n",
       "      <td>1</td>\n",
       "      <td>2011-11-28</td>\n",
       "      <td>20</td>\n",
       "      <td>2011</td>\n",
       "      <td>11</td>\n",
       "      <td>28</td>\n",
       "    </tr>\n",
       "    <tr>\n",
       "      <th>53765</th>\n",
       "      <td>Arthrotec</td>\n",
       "      <td>Sciatica</td>\n",
       "      <td>it works</td>\n",
       "      <td>9</td>\n",
       "      <td>2009-09-13</td>\n",
       "      <td>46</td>\n",
       "      <td>2009</td>\n",
       "      <td>9</td>\n",
       "      <td>13</td>\n",
       "    </tr>\n",
       "  </tbody>\n",
       "</table>\n",
       "<p>53766 rows × 9 columns</p>\n",
       "</div>"
      ],
      "text/plain": [
       "              drugname                     condition  \\\n",
       "0          Mirtazapine                    Depression   \n",
       "1           Mesalamine  Crohn's Disease, Maintenance   \n",
       "2              Bactrim       Urinary Tract Infection   \n",
       "3             Contrave                   Weight Loss   \n",
       "4      Cyclafem 1 / 35                 Birth Control   \n",
       "...                ...                           ...   \n",
       "53761        Tamoxifen     Breast Cancer, Prevention   \n",
       "53762     Escitalopram                       Anxiety   \n",
       "53763   Levonorgestrel                 Birth Control   \n",
       "53764       Tapentadol                          Pain   \n",
       "53765        Arthrotec                      Sciatica   \n",
       "\n",
       "                                                  review  rating       date  \\\n",
       "0      ive tried a few antidepressants over the years...      10 2012-02-28   \n",
       "1      my son has crohns disease and has done very we...       8 2009-05-17   \n",
       "2                            quick reduction of symptoms       9 2017-09-29   \n",
       "3      contrave combines drugs that were used for alc...       9 2017-03-05   \n",
       "4      i have been on this birth control for one cycl...       9 2015-10-22   \n",
       "...                                                  ...     ...        ...   \n",
       "53761  i have taken tamoxifen for  years side effects...      10 2014-09-13   \n",
       "53762  ive been taking lexapro escitaploprgram since ...       9 2016-10-08   \n",
       "53763  im married  years old and i have no kids takin...       8 2010-11-15   \n",
       "53764  i was prescribed nucynta for severe neck shoul...       1 2011-11-28   \n",
       "53765                                           it works       9 2009-09-13   \n",
       "\n",
       "       usefulcount  year  month  day  \n",
       "0               22  2012      2   28  \n",
       "1               17  2009      5   17  \n",
       "2                3  2017      9   29  \n",
       "3               35  2017      3    5  \n",
       "4                4  2015     10   22  \n",
       "...            ...   ...    ...  ...  \n",
       "53761           43  2014      9   13  \n",
       "53762           11  2016     10    8  \n",
       "53763            7  2010     11   15  \n",
       "53764           20  2011     11   28  \n",
       "53765           46  2009      9   13  \n",
       "\n",
       "[53766 rows x 9 columns]"
      ]
     },
     "execution_count": 16,
     "metadata": {},
     "output_type": "execute_result"
    }
   ],
   "source": [
    "review['review']=review_clean(review['review'])  # cleaned review \n",
    "\n",
    "review"
   ]
  },
  {
   "cell_type": "code",
   "execution_count": 17,
   "metadata": {},
   "outputs": [
    {
     "data": {
      "text/plain": [
       "0      mirtazapine\n",
       "1       mesalamine\n",
       "2          bactrim\n",
       "3         contrave\n",
       "4       cyclafem  \n",
       "5          zyclara\n",
       "6           copper\n",
       "7    amitriptyline\n",
       "8        methadone\n",
       "9           levora\n",
       "Name: drugname, dtype: object"
      ]
     },
     "execution_count": 17,
     "metadata": {},
     "output_type": "execute_result"
    }
   ],
   "source": [
    "review['drugname']=review_clean(review.drugname) # cleaned drugname \n",
    "review.drugname.head(10)"
   ]
  },
  {
   "cell_type": "code",
   "execution_count": 18,
   "metadata": {},
   "outputs": [
    {
     "data": {
      "text/plain": [
       "0                     depression\n",
       "1    crohn s disease maintenance\n",
       "2        urinary tract infection\n",
       "3                    weight loss\n",
       "4                  birth control\n",
       "5                      keratosis\n",
       "6                  birth control\n",
       "7            migraine prevention\n",
       "8              opiate withdrawal\n",
       "9                  birth control\n",
       "Name: condition, dtype: object"
      ]
     },
     "execution_count": 18,
     "metadata": {},
     "output_type": "execute_result"
    }
   ],
   "source": [
    "review['condition']=review_clean(review.condition)  # clean condition\n",
    "review.condition.head(10)"
   ]
  },
  {
   "cell_type": "code",
   "execution_count": 19,
   "metadata": {},
   "outputs": [],
   "source": [
    "# review tokenization\n"
   ]
  },
  {
   "cell_type": "code",
   "execution_count": 20,
   "metadata": {},
   "outputs": [],
   "source": [
    "def identify_tokens(row):\n",
    "    review = row['review']\n",
    "    tokens = nltk.word_tokenize(review)\n",
    "    # taken only words (not punctuation)\n",
    "    token_words = [w for w in tokens if w.isalpha()]\n",
    "    return token_words"
   ]
  },
  {
   "cell_type": "code",
   "execution_count": 21,
   "metadata": {},
   "outputs": [],
   "source": [
    "review['words'] = review.apply(identify_tokens, axis=1)"
   ]
  },
  {
   "cell_type": "code",
   "execution_count": 22,
   "metadata": {},
   "outputs": [
    {
     "data": {
      "text/plain": [
       "0     [ive, tried, a, few, antidepressants, over, th...\n",
       "1     [my, son, has, crohns, disease, and, has, done...\n",
       "2                      [quick, reduction, of, symptoms]\n",
       "3     [contrave, combines, drugs, that, were, used, ...\n",
       "4     [i, have, been, on, this, birth, control, for,...\n",
       "5     [days, in, on, first, weeks, using, on, arms, ...\n",
       "6     [ive, had, the, copper, coil, for, about, mont...\n",
       "7     [this, has, been, great, for, me, ive, been, o...\n",
       "8     [ive, been, on, methadone, for, over, ten, yea...\n",
       "9     [i, was, on, this, pill, for, almost, two, yea...\n",
       "10    [holy, hell, is, exactly, how, i, feel, i, had...\n",
       "11    [honestly, its, day, one, on, the, day, treatm...\n",
       "12    [this, is, a, waste, of, money, did, not, curb...\n",
       "13                [no, problems, watch, what, you, eat]\n",
       "14    [ditto, on, rebound, sleepless, when, disconti...\n",
       "15    [a, doctor, in, the, er, prescribed, me, mg, o...\n",
       "16    [i, smoked, for, years, took, it, for, one, we...\n",
       "17    [so, i, was, on, ginanvi, for, about, months, ...\n",
       "18    [this, medication, helped, me, sleep, but, eve...\n",
       "19    [after, just, dose, of, this, ciprofloxacn, i,...\n",
       "Name: words, dtype: object"
      ]
     },
     "execution_count": 22,
     "metadata": {},
     "output_type": "execute_result"
    }
   ],
   "source": [
    "review['words'].head(20)"
   ]
  },
  {
   "cell_type": "code",
   "execution_count": 23,
   "metadata": {},
   "outputs": [],
   "source": [
    "def stem_list(row):\n",
    "    my_list = row['words']\n",
    "    stemmed_list = [stemming.stem(word) for word in my_list]\n",
    "    return (stemmed_list)\n",
    "\n",
    "review['stemwords'] = review.apply(stem_list, axis=1)"
   ]
  },
  {
   "cell_type": "code",
   "execution_count": 24,
   "metadata": {},
   "outputs": [
    {
     "data": {
      "text/plain": [
       "0        [ive, tri, a, few, antidepress, over, the, yea...\n",
       "1        [my, son, ha, crohn, diseas, and, ha, done, ve...\n",
       "2                             [quick, reduct, of, symptom]\n",
       "3        [contrav, combin, drug, that, were, use, for, ...\n",
       "4        [i, have, been, on, thi, birth, control, for, ...\n",
       "                               ...                        \n",
       "53761    [i, have, taken, tamoxifen, for, year, side, e...\n",
       "53762    [ive, been, take, lexapro, escitaploprgram, si...\n",
       "53763    [im, marri, year, old, and, i, have, no, kid, ...\n",
       "53764    [i, wa, prescrib, nucynta, for, sever, neck, s...\n",
       "53765                                           [it, work]\n",
       "Name: stemwords, Length: 53766, dtype: object"
      ]
     },
     "execution_count": 24,
     "metadata": {},
     "output_type": "execute_result"
    }
   ],
   "source": [
    "review['stemwords']"
   ]
  },
  {
   "cell_type": "code",
   "execution_count": 25,
   "metadata": {},
   "outputs": [],
   "source": [
    "def remove_stops(row):\n",
    "    my_list = row['stemwords']\n",
    "    meaningful_words = [w for w in my_list if not w in stops]\n",
    "    return (meaningful_words)"
   ]
  },
  {
   "cell_type": "code",
   "execution_count": 26,
   "metadata": {},
   "outputs": [],
   "source": [
    "review['stem_meaningful'] = review.apply(remove_stops, axis=1)"
   ]
  },
  {
   "cell_type": "code",
   "execution_count": 27,
   "metadata": {},
   "outputs": [
    {
     "data": {
      "text/plain": [
       "0    [ive, tri, antidepress, year, citalopram, fluo...\n",
       "1    [son, ha, crohn, diseas, ha, done, veri, well,...\n",
       "2                             [quick, reduct, symptom]\n",
       "3    [contrav, combin, drug, use, alcohol, smoke, o...\n",
       "4    [thi, birth, control, one, cycl, read, review,...\n",
       "5    [day, first, week, use, arm, face, put, vaseli...\n",
       "6    [ive, copper, coil, month, wa, realli, excit, ...\n",
       "7    [thi, ha, great, ive, week, last, week, onli, ...\n",
       "8    [ive, methadon, ten, year, current, tri, get, ...\n",
       "9    [wa, thi, pill, almost, two, year, doe, work, ...\n",
       "Name: stem_meaningful, dtype: object"
      ]
     },
     "execution_count": 27,
     "metadata": {},
     "output_type": "execute_result"
    }
   ],
   "source": [
    "review['stem_meaningful'].head(10)"
   ]
  },
  {
   "cell_type": "code",
   "execution_count": 28,
   "metadata": {},
   "outputs": [],
   "source": [
    "def rejoin_words(row):\n",
    "    my_list = row['stem_meaningful']\n",
    "    joined_words = ( \" \".join(my_list))\n",
    "    return joined_words"
   ]
  },
  {
   "cell_type": "code",
   "execution_count": 29,
   "metadata": {},
   "outputs": [],
   "source": [
    "review['processed'] = review.apply(rejoin_words, axis=1)"
   ]
  },
  {
   "cell_type": "code",
   "execution_count": 30,
   "metadata": {},
   "outputs": [
    {
     "data": {
      "text/html": [
       "<div>\n",
       "<style scoped>\n",
       "    .dataframe tbody tr th:only-of-type {\n",
       "        vertical-align: middle;\n",
       "    }\n",
       "\n",
       "    .dataframe tbody tr th {\n",
       "        vertical-align: top;\n",
       "    }\n",
       "\n",
       "    .dataframe thead th {\n",
       "        text-align: right;\n",
       "    }\n",
       "</style>\n",
       "<table border=\"1\" class=\"dataframe\">\n",
       "  <thead>\n",
       "    <tr style=\"text-align: right;\">\n",
       "      <th></th>\n",
       "      <th>drugname</th>\n",
       "      <th>condition</th>\n",
       "      <th>review</th>\n",
       "      <th>rating</th>\n",
       "      <th>date</th>\n",
       "      <th>usefulcount</th>\n",
       "      <th>year</th>\n",
       "      <th>month</th>\n",
       "      <th>day</th>\n",
       "      <th>words</th>\n",
       "      <th>stemwords</th>\n",
       "      <th>stem_meaningful</th>\n",
       "      <th>processed</th>\n",
       "    </tr>\n",
       "  </thead>\n",
       "  <tbody>\n",
       "    <tr>\n",
       "      <th>0</th>\n",
       "      <td>mirtazapine</td>\n",
       "      <td>depression</td>\n",
       "      <td>ive tried a few antidepressants over the years...</td>\n",
       "      <td>10</td>\n",
       "      <td>2012-02-28</td>\n",
       "      <td>22</td>\n",
       "      <td>2012</td>\n",
       "      <td>2</td>\n",
       "      <td>28</td>\n",
       "      <td>[ive, tried, a, few, antidepressants, over, th...</td>\n",
       "      <td>[ive, tri, a, few, antidepress, over, the, yea...</td>\n",
       "      <td>[ive, tri, antidepress, year, citalopram, fluo...</td>\n",
       "      <td>ive tri antidepress year citalopram fluoxetin ...</td>\n",
       "    </tr>\n",
       "    <tr>\n",
       "      <th>1</th>\n",
       "      <td>mesalamine</td>\n",
       "      <td>crohn s disease maintenance</td>\n",
       "      <td>my son has crohns disease and has done very we...</td>\n",
       "      <td>8</td>\n",
       "      <td>2009-05-17</td>\n",
       "      <td>17</td>\n",
       "      <td>2009</td>\n",
       "      <td>5</td>\n",
       "      <td>17</td>\n",
       "      <td>[my, son, has, crohns, disease, and, has, done...</td>\n",
       "      <td>[my, son, ha, crohn, diseas, and, ha, done, ve...</td>\n",
       "      <td>[son, ha, crohn, diseas, ha, done, veri, well,...</td>\n",
       "      <td>son ha crohn diseas ha done veri well asacol h...</td>\n",
       "    </tr>\n",
       "    <tr>\n",
       "      <th>2</th>\n",
       "      <td>bactrim</td>\n",
       "      <td>urinary tract infection</td>\n",
       "      <td>quick reduction of symptoms</td>\n",
       "      <td>9</td>\n",
       "      <td>2017-09-29</td>\n",
       "      <td>3</td>\n",
       "      <td>2017</td>\n",
       "      <td>9</td>\n",
       "      <td>29</td>\n",
       "      <td>[quick, reduction, of, symptoms]</td>\n",
       "      <td>[quick, reduct, of, symptom]</td>\n",
       "      <td>[quick, reduct, symptom]</td>\n",
       "      <td>quick reduct symptom</td>\n",
       "    </tr>\n",
       "    <tr>\n",
       "      <th>3</th>\n",
       "      <td>contrave</td>\n",
       "      <td>weight loss</td>\n",
       "      <td>contrave combines drugs that were used for alc...</td>\n",
       "      <td>9</td>\n",
       "      <td>2017-03-05</td>\n",
       "      <td>35</td>\n",
       "      <td>2017</td>\n",
       "      <td>3</td>\n",
       "      <td>5</td>\n",
       "      <td>[contrave, combines, drugs, that, were, used, ...</td>\n",
       "      <td>[contrav, combin, drug, that, were, use, for, ...</td>\n",
       "      <td>[contrav, combin, drug, use, alcohol, smoke, o...</td>\n",
       "      <td>contrav combin drug use alcohol smoke opioid c...</td>\n",
       "    </tr>\n",
       "    <tr>\n",
       "      <th>4</th>\n",
       "      <td>cyclafem</td>\n",
       "      <td>birth control</td>\n",
       "      <td>i have been on this birth control for one cycl...</td>\n",
       "      <td>9</td>\n",
       "      <td>2015-10-22</td>\n",
       "      <td>4</td>\n",
       "      <td>2015</td>\n",
       "      <td>10</td>\n",
       "      <td>22</td>\n",
       "      <td>[i, have, been, on, this, birth, control, for,...</td>\n",
       "      <td>[i, have, been, on, thi, birth, control, for, ...</td>\n",
       "      <td>[thi, birth, control, one, cycl, read, review,...</td>\n",
       "      <td>thi birth control one cycl read review thi typ...</td>\n",
       "    </tr>\n",
       "    <tr>\n",
       "      <th>...</th>\n",
       "      <td>...</td>\n",
       "      <td>...</td>\n",
       "      <td>...</td>\n",
       "      <td>...</td>\n",
       "      <td>...</td>\n",
       "      <td>...</td>\n",
       "      <td>...</td>\n",
       "      <td>...</td>\n",
       "      <td>...</td>\n",
       "      <td>...</td>\n",
       "      <td>...</td>\n",
       "      <td>...</td>\n",
       "      <td>...</td>\n",
       "    </tr>\n",
       "    <tr>\n",
       "      <th>53761</th>\n",
       "      <td>tamoxifen</td>\n",
       "      <td>breast cancer prevention</td>\n",
       "      <td>i have taken tamoxifen for  years side effects...</td>\n",
       "      <td>10</td>\n",
       "      <td>2014-09-13</td>\n",
       "      <td>43</td>\n",
       "      <td>2014</td>\n",
       "      <td>9</td>\n",
       "      <td>13</td>\n",
       "      <td>[i, have, taken, tamoxifen, for, years, side, ...</td>\n",
       "      <td>[i, have, taken, tamoxifen, for, year, side, e...</td>\n",
       "      <td>[taken, tamoxifen, year, side, effect, sever, ...</td>\n",
       "      <td>taken tamoxifen year side effect sever sweat d...</td>\n",
       "    </tr>\n",
       "    <tr>\n",
       "      <th>53762</th>\n",
       "      <td>escitalopram</td>\n",
       "      <td>anxiety</td>\n",
       "      <td>ive been taking lexapro escitaploprgram since ...</td>\n",
       "      <td>9</td>\n",
       "      <td>2016-10-08</td>\n",
       "      <td>11</td>\n",
       "      <td>2016</td>\n",
       "      <td>10</td>\n",
       "      <td>8</td>\n",
       "      <td>[ive, been, taking, lexapro, escitaploprgram, ...</td>\n",
       "      <td>[ive, been, take, lexapro, escitaploprgram, si...</td>\n",
       "      <td>[ive, take, lexapro, escitaploprgram, sinc, fe...</td>\n",
       "      <td>ive take lexapro escitaploprgram sinc februari...</td>\n",
       "    </tr>\n",
       "    <tr>\n",
       "      <th>53763</th>\n",
       "      <td>levonorgestrel</td>\n",
       "      <td>birth control</td>\n",
       "      <td>im married  years old and i have no kids takin...</td>\n",
       "      <td>8</td>\n",
       "      <td>2010-11-15</td>\n",
       "      <td>7</td>\n",
       "      <td>2010</td>\n",
       "      <td>11</td>\n",
       "      <td>15</td>\n",
       "      <td>[im, married, years, old, and, i, have, no, ki...</td>\n",
       "      <td>[im, marri, year, old, and, i, have, no, kid, ...</td>\n",
       "      <td>[im, marri, year, old, kid, take, pill, wa, ha...</td>\n",
       "      <td>im marri year old kid take pill wa hassl decid...</td>\n",
       "    </tr>\n",
       "    <tr>\n",
       "      <th>53764</th>\n",
       "      <td>tapentadol</td>\n",
       "      <td>pain</td>\n",
       "      <td>i was prescribed nucynta for severe neck shoul...</td>\n",
       "      <td>1</td>\n",
       "      <td>2011-11-28</td>\n",
       "      <td>20</td>\n",
       "      <td>2011</td>\n",
       "      <td>11</td>\n",
       "      <td>28</td>\n",
       "      <td>[i, was, prescribed, nucynta, for, severe, nec...</td>\n",
       "      <td>[i, wa, prescrib, nucynta, for, sever, neck, s...</td>\n",
       "      <td>[wa, prescrib, nucynta, sever, neck, shoulder,...</td>\n",
       "      <td>wa prescrib nucynta sever neck shoulder pain t...</td>\n",
       "    </tr>\n",
       "    <tr>\n",
       "      <th>53765</th>\n",
       "      <td>arthrotec</td>\n",
       "      <td>sciatica</td>\n",
       "      <td>it works</td>\n",
       "      <td>9</td>\n",
       "      <td>2009-09-13</td>\n",
       "      <td>46</td>\n",
       "      <td>2009</td>\n",
       "      <td>9</td>\n",
       "      <td>13</td>\n",
       "      <td>[it, works]</td>\n",
       "      <td>[it, work]</td>\n",
       "      <td>[work]</td>\n",
       "      <td>work</td>\n",
       "    </tr>\n",
       "  </tbody>\n",
       "</table>\n",
       "<p>53766 rows × 13 columns</p>\n",
       "</div>"
      ],
      "text/plain": [
       "             drugname                    condition  \\\n",
       "0         mirtazapine                   depression   \n",
       "1          mesalamine  crohn s disease maintenance   \n",
       "2             bactrim      urinary tract infection   \n",
       "3            contrave                  weight loss   \n",
       "4          cyclafem                  birth control   \n",
       "...               ...                          ...   \n",
       "53761       tamoxifen     breast cancer prevention   \n",
       "53762    escitalopram                      anxiety   \n",
       "53763  levonorgestrel                birth control   \n",
       "53764      tapentadol                         pain   \n",
       "53765       arthrotec                     sciatica   \n",
       "\n",
       "                                                  review  rating       date  \\\n",
       "0      ive tried a few antidepressants over the years...      10 2012-02-28   \n",
       "1      my son has crohns disease and has done very we...       8 2009-05-17   \n",
       "2                            quick reduction of symptoms       9 2017-09-29   \n",
       "3      contrave combines drugs that were used for alc...       9 2017-03-05   \n",
       "4      i have been on this birth control for one cycl...       9 2015-10-22   \n",
       "...                                                  ...     ...        ...   \n",
       "53761  i have taken tamoxifen for  years side effects...      10 2014-09-13   \n",
       "53762  ive been taking lexapro escitaploprgram since ...       9 2016-10-08   \n",
       "53763  im married  years old and i have no kids takin...       8 2010-11-15   \n",
       "53764  i was prescribed nucynta for severe neck shoul...       1 2011-11-28   \n",
       "53765                                           it works       9 2009-09-13   \n",
       "\n",
       "       usefulcount  year  month  day  \\\n",
       "0               22  2012      2   28   \n",
       "1               17  2009      5   17   \n",
       "2                3  2017      9   29   \n",
       "3               35  2017      3    5   \n",
       "4                4  2015     10   22   \n",
       "...            ...   ...    ...  ...   \n",
       "53761           43  2014      9   13   \n",
       "53762           11  2016     10    8   \n",
       "53763            7  2010     11   15   \n",
       "53764           20  2011     11   28   \n",
       "53765           46  2009      9   13   \n",
       "\n",
       "                                                   words  \\\n",
       "0      [ive, tried, a, few, antidepressants, over, th...   \n",
       "1      [my, son, has, crohns, disease, and, has, done...   \n",
       "2                       [quick, reduction, of, symptoms]   \n",
       "3      [contrave, combines, drugs, that, were, used, ...   \n",
       "4      [i, have, been, on, this, birth, control, for,...   \n",
       "...                                                  ...   \n",
       "53761  [i, have, taken, tamoxifen, for, years, side, ...   \n",
       "53762  [ive, been, taking, lexapro, escitaploprgram, ...   \n",
       "53763  [im, married, years, old, and, i, have, no, ki...   \n",
       "53764  [i, was, prescribed, nucynta, for, severe, nec...   \n",
       "53765                                        [it, works]   \n",
       "\n",
       "                                               stemwords  \\\n",
       "0      [ive, tri, a, few, antidepress, over, the, yea...   \n",
       "1      [my, son, ha, crohn, diseas, and, ha, done, ve...   \n",
       "2                           [quick, reduct, of, symptom]   \n",
       "3      [contrav, combin, drug, that, were, use, for, ...   \n",
       "4      [i, have, been, on, thi, birth, control, for, ...   \n",
       "...                                                  ...   \n",
       "53761  [i, have, taken, tamoxifen, for, year, side, e...   \n",
       "53762  [ive, been, take, lexapro, escitaploprgram, si...   \n",
       "53763  [im, marri, year, old, and, i, have, no, kid, ...   \n",
       "53764  [i, wa, prescrib, nucynta, for, sever, neck, s...   \n",
       "53765                                         [it, work]   \n",
       "\n",
       "                                         stem_meaningful  \\\n",
       "0      [ive, tri, antidepress, year, citalopram, fluo...   \n",
       "1      [son, ha, crohn, diseas, ha, done, veri, well,...   \n",
       "2                               [quick, reduct, symptom]   \n",
       "3      [contrav, combin, drug, use, alcohol, smoke, o...   \n",
       "4      [thi, birth, control, one, cycl, read, review,...   \n",
       "...                                                  ...   \n",
       "53761  [taken, tamoxifen, year, side, effect, sever, ...   \n",
       "53762  [ive, take, lexapro, escitaploprgram, sinc, fe...   \n",
       "53763  [im, marri, year, old, kid, take, pill, wa, ha...   \n",
       "53764  [wa, prescrib, nucynta, sever, neck, shoulder,...   \n",
       "53765                                             [work]   \n",
       "\n",
       "                                               processed  \n",
       "0      ive tri antidepress year citalopram fluoxetin ...  \n",
       "1      son ha crohn diseas ha done veri well asacol h...  \n",
       "2                                   quick reduct symptom  \n",
       "3      contrav combin drug use alcohol smoke opioid c...  \n",
       "4      thi birth control one cycl read review thi typ...  \n",
       "...                                                  ...  \n",
       "53761  taken tamoxifen year side effect sever sweat d...  \n",
       "53762  ive take lexapro escitaploprgram sinc februari...  \n",
       "53763  im marri year old kid take pill wa hassl decid...  \n",
       "53764  wa prescrib nucynta sever neck shoulder pain t...  \n",
       "53765                                               work  \n",
       "\n",
       "[53766 rows x 13 columns]"
      ]
     },
     "execution_count": 30,
     "metadata": {},
     "output_type": "execute_result"
    }
   ],
   "source": [
    "review"
   ]
  },
  {
   "cell_type": "code",
   "execution_count": 31,
   "metadata": {},
   "outputs": [],
   "source": [
    "coloumndelete = ['words', 'stemwords', 'stem_meaningful','review']\n",
    "review.drop(coloumndelete,axis=1,inplace=True)"
   ]
  },
  {
   "cell_type": "code",
   "execution_count": 32,
   "metadata": {},
   "outputs": [],
   "source": [
    "medicine = review.copy()\n"
   ]
  },
  {
   "cell_type": "code",
   "execution_count": 33,
   "metadata": {},
   "outputs": [
    {
     "data": {
      "text/plain": [
       "Index(['drugname', 'condition', 'rating', 'date', 'usefulcount', 'year',\n",
       "       'month', 'day', 'processed'],\n",
       "      dtype='object')"
      ]
     },
     "execution_count": 33,
     "metadata": {},
     "output_type": "execute_result"
    }
   ],
   "source": [
    "medicine.columns"
   ]
  },
  {
   "cell_type": "code",
   "execution_count": null,
   "metadata": {},
   "outputs": [],
   "source": []
  },
  {
   "cell_type": "code",
   "execution_count": 34,
   "metadata": {},
   "outputs": [
    {
     "data": {
      "text/html": [
       "<div>\n",
       "<style scoped>\n",
       "    .dataframe tbody tr th:only-of-type {\n",
       "        vertical-align: middle;\n",
       "    }\n",
       "\n",
       "    .dataframe tbody tr th {\n",
       "        vertical-align: top;\n",
       "    }\n",
       "\n",
       "    .dataframe thead th {\n",
       "        text-align: right;\n",
       "    }\n",
       "</style>\n",
       "<table border=\"1\" class=\"dataframe\">\n",
       "  <thead>\n",
       "    <tr style=\"text-align: right;\">\n",
       "      <th></th>\n",
       "      <th>drugname</th>\n",
       "      <th>condition</th>\n",
       "      <th>rating</th>\n",
       "      <th>date</th>\n",
       "      <th>usefulcount</th>\n",
       "      <th>year</th>\n",
       "      <th>month</th>\n",
       "      <th>day</th>\n",
       "      <th>processed</th>\n",
       "    </tr>\n",
       "  </thead>\n",
       "  <tbody>\n",
       "    <tr>\n",
       "      <th>0</th>\n",
       "      <td>mirtazapine</td>\n",
       "      <td>depression</td>\n",
       "      <td>10</td>\n",
       "      <td>2012-02-28</td>\n",
       "      <td>22</td>\n",
       "      <td>2012</td>\n",
       "      <td>2</td>\n",
       "      <td>28</td>\n",
       "      <td>ive tri antidepress year citalopram fluoxetin ...</td>\n",
       "    </tr>\n",
       "    <tr>\n",
       "      <th>1</th>\n",
       "      <td>mesalamine</td>\n",
       "      <td>crohn s disease maintenance</td>\n",
       "      <td>8</td>\n",
       "      <td>2009-05-17</td>\n",
       "      <td>17</td>\n",
       "      <td>2009</td>\n",
       "      <td>5</td>\n",
       "      <td>17</td>\n",
       "      <td>son ha crohn diseas ha done veri well asacol h...</td>\n",
       "    </tr>\n",
       "    <tr>\n",
       "      <th>2</th>\n",
       "      <td>bactrim</td>\n",
       "      <td>urinary tract infection</td>\n",
       "      <td>9</td>\n",
       "      <td>2017-09-29</td>\n",
       "      <td>3</td>\n",
       "      <td>2017</td>\n",
       "      <td>9</td>\n",
       "      <td>29</td>\n",
       "      <td>quick reduct symptom</td>\n",
       "    </tr>\n",
       "    <tr>\n",
       "      <th>3</th>\n",
       "      <td>contrave</td>\n",
       "      <td>weight loss</td>\n",
       "      <td>9</td>\n",
       "      <td>2017-03-05</td>\n",
       "      <td>35</td>\n",
       "      <td>2017</td>\n",
       "      <td>3</td>\n",
       "      <td>5</td>\n",
       "      <td>contrav combin drug use alcohol smoke opioid c...</td>\n",
       "    </tr>\n",
       "    <tr>\n",
       "      <th>4</th>\n",
       "      <td>cyclafem</td>\n",
       "      <td>birth control</td>\n",
       "      <td>9</td>\n",
       "      <td>2015-10-22</td>\n",
       "      <td>4</td>\n",
       "      <td>2015</td>\n",
       "      <td>10</td>\n",
       "      <td>22</td>\n",
       "      <td>thi birth control one cycl read review thi typ...</td>\n",
       "    </tr>\n",
       "  </tbody>\n",
       "</table>\n",
       "</div>"
      ],
      "text/plain": [
       "      drugname                    condition  rating       date  usefulcount  \\\n",
       "0  mirtazapine                   depression      10 2012-02-28           22   \n",
       "1   mesalamine  crohn s disease maintenance       8 2009-05-17           17   \n",
       "2      bactrim      urinary tract infection       9 2017-09-29            3   \n",
       "3     contrave                  weight loss       9 2017-03-05           35   \n",
       "4   cyclafem                  birth control       9 2015-10-22            4   \n",
       "\n",
       "   year  month  day                                          processed  \n",
       "0  2012      2   28  ive tri antidepress year citalopram fluoxetin ...  \n",
       "1  2009      5   17  son ha crohn diseas ha done veri well asacol h...  \n",
       "2  2017      9   29                               quick reduct symptom  \n",
       "3  2017      3    5  contrav combin drug use alcohol smoke opioid c...  \n",
       "4  2015     10   22  thi birth control one cycl read review thi typ...  "
      ]
     },
     "execution_count": 34,
     "metadata": {},
     "output_type": "execute_result"
    }
   ],
   "source": [
    "medicine.head()  # processed review we have now !"
   ]
  },
  {
   "cell_type": "code",
   "execution_count": 35,
   "metadata": {},
   "outputs": [
    {
     "data": {
      "text/plain": [
       "<matplotlib.axes._subplots.AxesSubplot at 0x17590bbf888>"
      ]
     },
     "execution_count": 35,
     "metadata": {},
     "output_type": "execute_result"
    },
    {
     "data": {
      "image/png": "[encoded data removed]",
      "text/plain": [
       "<Figure size 864x504 with 1 Axes>"
      ]
     },
     "metadata": {},
     "output_type": "display_data"
    }
   ],
   "source": [
    "medicine['usefulcount'].plot.hist()"
   ]
  },
  {
   "cell_type": "code",
   "execution_count": 36,
   "metadata": {},
   "outputs": [
    {
     "data": {
      "text/html": [
       "<div>\n",
       "<style scoped>\n",
       "    .dataframe tbody tr th:only-of-type {\n",
       "        vertical-align: middle;\n",
       "    }\n",
       "\n",
       "    .dataframe tbody tr th {\n",
       "        vertical-align: top;\n",
       "    }\n",
       "\n",
       "    .dataframe thead th {\n",
       "        text-align: right;\n",
       "    }\n",
       "</style>\n",
       "<table border=\"1\" class=\"dataframe\">\n",
       "  <thead>\n",
       "    <tr style=\"text-align: right;\">\n",
       "      <th></th>\n",
       "      <th>usefulcount</th>\n",
       "      <th>Count</th>\n",
       "      <th>Percent</th>\n",
       "      <th>Cumulative Count</th>\n",
       "      <th>Cumulative Percent</th>\n",
       "    </tr>\n",
       "  </thead>\n",
       "  <tbody>\n",
       "    <tr>\n",
       "      <th>0</th>\n",
       "      <td>2</td>\n",
       "      <td>2152</td>\n",
       "      <td>0.040025</td>\n",
       "      <td>2152</td>\n",
       "      <td>0.040025</td>\n",
       "    </tr>\n",
       "    <tr>\n",
       "      <th>1</th>\n",
       "      <td>3</td>\n",
       "      <td>2146</td>\n",
       "      <td>0.039914</td>\n",
       "      <td>4298</td>\n",
       "      <td>0.079939</td>\n",
       "    </tr>\n",
       "    <tr>\n",
       "      <th>2</th>\n",
       "      <td>1</td>\n",
       "      <td>2089</td>\n",
       "      <td>0.038854</td>\n",
       "      <td>6387</td>\n",
       "      <td>0.118793</td>\n",
       "    </tr>\n",
       "    <tr>\n",
       "      <th>3</th>\n",
       "      <td>0</td>\n",
       "      <td>2084</td>\n",
       "      <td>0.038761</td>\n",
       "      <td>8471</td>\n",
       "      <td>0.157553</td>\n",
       "    </tr>\n",
       "    <tr>\n",
       "      <th>4</th>\n",
       "      <td>4</td>\n",
       "      <td>2043</td>\n",
       "      <td>0.037998</td>\n",
       "      <td>10514</td>\n",
       "      <td>0.195551</td>\n",
       "    </tr>\n",
       "    <tr>\n",
       "      <th>5</th>\n",
       "      <td>5</td>\n",
       "      <td>1988</td>\n",
       "      <td>0.036975</td>\n",
       "      <td>12502</td>\n",
       "      <td>0.232526</td>\n",
       "    </tr>\n",
       "    <tr>\n",
       "      <th>6</th>\n",
       "      <td>6</td>\n",
       "      <td>1781</td>\n",
       "      <td>0.033125</td>\n",
       "      <td>14283</td>\n",
       "      <td>0.265651</td>\n",
       "    </tr>\n",
       "    <tr>\n",
       "      <th>7</th>\n",
       "      <td>7</td>\n",
       "      <td>1675</td>\n",
       "      <td>0.031154</td>\n",
       "      <td>15958</td>\n",
       "      <td>0.296805</td>\n",
       "    </tr>\n",
       "    <tr>\n",
       "      <th>8</th>\n",
       "      <td>8</td>\n",
       "      <td>1570</td>\n",
       "      <td>0.029201</td>\n",
       "      <td>17528</td>\n",
       "      <td>0.326005</td>\n",
       "    </tr>\n",
       "    <tr>\n",
       "      <th>9</th>\n",
       "      <td>9</td>\n",
       "      <td>1477</td>\n",
       "      <td>0.027471</td>\n",
       "      <td>19005</td>\n",
       "      <td>0.353476</td>\n",
       "    </tr>\n",
       "  </tbody>\n",
       "</table>\n",
       "</div>"
      ],
      "text/plain": [
       "   usefulcount  Count   Percent  Cumulative Count  Cumulative Percent\n",
       "0            2   2152  0.040025              2152            0.040025\n",
       "1            3   2146  0.039914              4298            0.079939\n",
       "2            1   2089  0.038854              6387            0.118793\n",
       "3            0   2084  0.038761              8471            0.157553\n",
       "4            4   2043  0.037998             10514            0.195551\n",
       "5            5   1988  0.036975             12502            0.232526\n",
       "6            6   1781  0.033125             14283            0.265651\n",
       "7            7   1675  0.031154             15958            0.296805\n",
       "8            8   1570  0.029201             17528            0.326005\n",
       "9            9   1477  0.027471             19005            0.353476"
      ]
     },
     "execution_count": 36,
     "metadata": {},
     "output_type": "execute_result"
    }
   ],
   "source": [
    "medicine.stb.freq(['usefulcount']).head(10)"
   ]
  },
  {
   "cell_type": "code",
   "execution_count": 37,
   "metadata": {},
   "outputs": [
    {
     "data": {
      "text/plain": [
       "drugname         0\n",
       "condition      295\n",
       "rating           0\n",
       "date             0\n",
       "usefulcount      0\n",
       "year             0\n",
       "month            0\n",
       "day              0\n",
       "processed        0\n",
       "dtype: int64"
      ]
     },
     "execution_count": 37,
     "metadata": {},
     "output_type": "execute_result"
    }
   ],
   "source": [
    "# Checking is there any na values \n",
    "medicine.isna().sum()"
   ]
  },
  {
   "cell_type": "code",
   "execution_count": 38,
   "metadata": {},
   "outputs": [],
   "source": [
    "medicine.dropna(inplace=True)"
   ]
  },
  {
   "cell_type": "code",
   "execution_count": 39,
   "metadata": {},
   "outputs": [
    {
     "data": {
      "text/plain": [
       "drugname       0\n",
       "condition      0\n",
       "rating         0\n",
       "date           0\n",
       "usefulcount    0\n",
       "year           0\n",
       "month          0\n",
       "day            0\n",
       "processed      0\n",
       "dtype: int64"
      ]
     },
     "execution_count": 39,
     "metadata": {},
     "output_type": "execute_result"
    }
   ],
   "source": [
    "medicine.isna().sum()"
   ]
  },
  {
   "cell_type": "code",
   "execution_count": 40,
   "metadata": {},
   "outputs": [
    {
     "data": {
      "text/plain": [
       "<matplotlib.axes._subplots.AxesSubplot at 0x1758dc4c988>"
      ]
     },
     "execution_count": 40,
     "metadata": {},
     "output_type": "execute_result"
    },
    {
     "data": {
      "image/png": "[encoded data removed]",
      "text/plain": [
       "<Figure size 864x504 with 1 Axes>"
      ]
     },
     "metadata": {},
     "output_type": "display_data"
    }
   ],
   "source": [
    "# Checking If there is any outliers:  \n",
    "medicine['rating'].plot.box()"
   ]
  },
  {
   "cell_type": "code",
   "execution_count": 41,
   "metadata": {},
   "outputs": [
    {
     "data": {
      "text/plain": [
       "<matplotlib.axes._subplots.AxesSubplot at 0x175911bd3c8>"
      ]
     },
     "execution_count": 41,
     "metadata": {},
     "output_type": "execute_result"
    },
    {
     "data": {
      "image/png": "[encoded data removed]",
      "text/plain": [
       "<Figure size 864x504 with 1 Axes>"
      ]
     },
     "metadata": {},
     "output_type": "display_data"
    }
   ],
   "source": [
    "medicine['usefulcount'].plot.box()"
   ]
  },
  {
   "cell_type": "code",
   "execution_count": 42,
   "metadata": {},
   "outputs": [
    {
     "data": {
      "text/plain": [
       "count    53471.000000\n",
       "mean        28.083634\n",
       "std         36.231706\n",
       "min          0.000000\n",
       "25%          6.000000\n",
       "50%         16.000000\n",
       "75%         36.000000\n",
       "max        949.000000\n",
       "Name: usefulcount, dtype: float64"
      ]
     },
     "execution_count": 42,
     "metadata": {},
     "output_type": "execute_result"
    }
   ],
   "source": [
    "medicine.usefulcount.describe()"
   ]
  },
  {
   "cell_type": "code",
   "execution_count": 43,
   "metadata": {},
   "outputs": [],
   "source": [
    "medicine['usefulcount']=medicine['usefulcount'].clip(0,40)"
   ]
  },
  {
   "cell_type": "code",
   "execution_count": 44,
   "metadata": {},
   "outputs": [
    {
     "data": {
      "text/plain": [
       "<matplotlib.axes._subplots.AxesSubplot at 0x175b0fcbac8>"
      ]
     },
     "execution_count": 44,
     "metadata": {},
     "output_type": "execute_result"
    },
    {
     "data": {
      "image/png": "[encoded data removed]",
      "text/plain": [
       "<Figure size 864x504 with 1 Axes>"
      ]
     },
     "metadata": {},
     "output_type": "display_data"
    }
   ],
   "source": [
    "medicine['usefulcount'].plot.box()"
   ]
  },
  {
   "cell_type": "code",
   "execution_count": 45,
   "metadata": {},
   "outputs": [],
   "source": [
    "coloumndelete = ['date']\n",
    "medicine.drop(coloumndelete,axis=1,inplace=True)"
   ]
  },
  {
   "cell_type": "code",
   "execution_count": 46,
   "metadata": {},
   "outputs": [],
   "source": [
    "medicine.rename(columns={'processed':'processed_review'},inplace=True)"
   ]
  },
  {
   "cell_type": "code",
   "execution_count": 47,
   "metadata": {},
   "outputs": [
    {
     "data": {
      "text/html": [
       "<div>\n",
       "<style scoped>\n",
       "    .dataframe tbody tr th:only-of-type {\n",
       "        vertical-align: middle;\n",
       "    }\n",
       "\n",
       "    .dataframe tbody tr th {\n",
       "        vertical-align: top;\n",
       "    }\n",
       "\n",
       "    .dataframe thead th {\n",
       "        text-align: right;\n",
       "    }\n",
       "</style>\n",
       "<table border=\"1\" class=\"dataframe\">\n",
       "  <thead>\n",
       "    <tr style=\"text-align: right;\">\n",
       "      <th></th>\n",
       "      <th>drugname</th>\n",
       "      <th>condition</th>\n",
       "      <th>rating</th>\n",
       "      <th>usefulcount</th>\n",
       "      <th>year</th>\n",
       "      <th>month</th>\n",
       "      <th>day</th>\n",
       "      <th>processed_review</th>\n",
       "    </tr>\n",
       "  </thead>\n",
       "  <tbody>\n",
       "    <tr>\n",
       "      <th>0</th>\n",
       "      <td>mirtazapine</td>\n",
       "      <td>depression</td>\n",
       "      <td>10</td>\n",
       "      <td>22</td>\n",
       "      <td>2012</td>\n",
       "      <td>2</td>\n",
       "      <td>28</td>\n",
       "      <td>ive tri antidepress year citalopram fluoxetin ...</td>\n",
       "    </tr>\n",
       "    <tr>\n",
       "      <th>1</th>\n",
       "      <td>mesalamine</td>\n",
       "      <td>crohn s disease maintenance</td>\n",
       "      <td>8</td>\n",
       "      <td>17</td>\n",
       "      <td>2009</td>\n",
       "      <td>5</td>\n",
       "      <td>17</td>\n",
       "      <td>son ha crohn diseas ha done veri well asacol h...</td>\n",
       "    </tr>\n",
       "    <tr>\n",
       "      <th>2</th>\n",
       "      <td>bactrim</td>\n",
       "      <td>urinary tract infection</td>\n",
       "      <td>9</td>\n",
       "      <td>3</td>\n",
       "      <td>2017</td>\n",
       "      <td>9</td>\n",
       "      <td>29</td>\n",
       "      <td>quick reduct symptom</td>\n",
       "    </tr>\n",
       "    <tr>\n",
       "      <th>3</th>\n",
       "      <td>contrave</td>\n",
       "      <td>weight loss</td>\n",
       "      <td>9</td>\n",
       "      <td>35</td>\n",
       "      <td>2017</td>\n",
       "      <td>3</td>\n",
       "      <td>5</td>\n",
       "      <td>contrav combin drug use alcohol smoke opioid c...</td>\n",
       "    </tr>\n",
       "    <tr>\n",
       "      <th>4</th>\n",
       "      <td>cyclafem</td>\n",
       "      <td>birth control</td>\n",
       "      <td>9</td>\n",
       "      <td>4</td>\n",
       "      <td>2015</td>\n",
       "      <td>10</td>\n",
       "      <td>22</td>\n",
       "      <td>thi birth control one cycl read review thi typ...</td>\n",
       "    </tr>\n",
       "    <tr>\n",
       "      <th>5</th>\n",
       "      <td>zyclara</td>\n",
       "      <td>keratosis</td>\n",
       "      <td>4</td>\n",
       "      <td>13</td>\n",
       "      <td>2014</td>\n",
       "      <td>7</td>\n",
       "      <td>3</td>\n",
       "      <td>day first week use arm face put vaselin lip ey...</td>\n",
       "    </tr>\n",
       "    <tr>\n",
       "      <th>6</th>\n",
       "      <td>copper</td>\n",
       "      <td>birth control</td>\n",
       "      <td>6</td>\n",
       "      <td>1</td>\n",
       "      <td>2016</td>\n",
       "      <td>6</td>\n",
       "      <td>6</td>\n",
       "      <td>ive copper coil month wa realli excit thought ...</td>\n",
       "    </tr>\n",
       "    <tr>\n",
       "      <th>7</th>\n",
       "      <td>amitriptyline</td>\n",
       "      <td>migraine prevention</td>\n",
       "      <td>9</td>\n",
       "      <td>32</td>\n",
       "      <td>2009</td>\n",
       "      <td>4</td>\n",
       "      <td>21</td>\n",
       "      <td>thi ha great ive week last week onli headach w...</td>\n",
       "    </tr>\n",
       "    <tr>\n",
       "      <th>8</th>\n",
       "      <td>methadone</td>\n",
       "      <td>opiate withdrawal</td>\n",
       "      <td>7</td>\n",
       "      <td>21</td>\n",
       "      <td>2016</td>\n",
       "      <td>10</td>\n",
       "      <td>18</td>\n",
       "      <td>ive methadon ten year current tri get thi drug...</td>\n",
       "    </tr>\n",
       "    <tr>\n",
       "      <th>9</th>\n",
       "      <td>levora</td>\n",
       "      <td>birth control</td>\n",
       "      <td>2</td>\n",
       "      <td>3</td>\n",
       "      <td>2011</td>\n",
       "      <td>4</td>\n",
       "      <td>16</td>\n",
       "      <td>wa thi pill almost two year doe work far get p...</td>\n",
       "    </tr>\n",
       "  </tbody>\n",
       "</table>\n",
       "</div>"
      ],
      "text/plain": [
       "        drugname                    condition  rating  usefulcount  year  \\\n",
       "0    mirtazapine                   depression      10           22  2012   \n",
       "1     mesalamine  crohn s disease maintenance       8           17  2009   \n",
       "2        bactrim      urinary tract infection       9            3  2017   \n",
       "3       contrave                  weight loss       9           35  2017   \n",
       "4     cyclafem                  birth control       9            4  2015   \n",
       "5        zyclara                    keratosis       4           13  2014   \n",
       "6         copper                birth control       6            1  2016   \n",
       "7  amitriptyline          migraine prevention       9           32  2009   \n",
       "8      methadone            opiate withdrawal       7           21  2016   \n",
       "9         levora                birth control       2            3  2011   \n",
       "\n",
       "   month  day                                   processed_review  \n",
       "0      2   28  ive tri antidepress year citalopram fluoxetin ...  \n",
       "1      5   17  son ha crohn diseas ha done veri well asacol h...  \n",
       "2      9   29                               quick reduct symptom  \n",
       "3      3    5  contrav combin drug use alcohol smoke opioid c...  \n",
       "4     10   22  thi birth control one cycl read review thi typ...  \n",
       "5      7    3  day first week use arm face put vaselin lip ey...  \n",
       "6      6    6  ive copper coil month wa realli excit thought ...  \n",
       "7      4   21  thi ha great ive week last week onli headach w...  \n",
       "8     10   18  ive methadon ten year current tri get thi drug...  \n",
       "9      4   16  wa thi pill almost two year doe work far get p...  "
      ]
     },
     "execution_count": 47,
     "metadata": {},
     "output_type": "execute_result"
    }
   ],
   "source": [
    "medicine.head(10)"
   ]
  },
  {
   "cell_type": "code",
   "execution_count": 48,
   "metadata": {},
   "outputs": [],
   "source": [
    "# Giving the Sentiment according to the ratings\n",
    "medicine['sentiment_rate'] = medicine['rating'].apply(lambda x: 1 if x > 5 else 0)"
   ]
  },
  {
   "cell_type": "code",
   "execution_count": 49,
   "metadata": {},
   "outputs": [
    {
     "data": {
      "text/html": [
       "<div>\n",
       "<style scoped>\n",
       "    .dataframe tbody tr th:only-of-type {\n",
       "        vertical-align: middle;\n",
       "    }\n",
       "\n",
       "    .dataframe tbody tr th {\n",
       "        vertical-align: top;\n",
       "    }\n",
       "\n",
       "    .dataframe thead th {\n",
       "        text-align: right;\n",
       "    }\n",
       "</style>\n",
       "<table border=\"1\" class=\"dataframe\">\n",
       "  <thead>\n",
       "    <tr style=\"text-align: right;\">\n",
       "      <th></th>\n",
       "      <th>drugname</th>\n",
       "      <th>condition</th>\n",
       "      <th>rating</th>\n",
       "      <th>usefulcount</th>\n",
       "      <th>year</th>\n",
       "      <th>month</th>\n",
       "      <th>day</th>\n",
       "      <th>processed_review</th>\n",
       "      <th>sentiment_rate</th>\n",
       "    </tr>\n",
       "  </thead>\n",
       "  <tbody>\n",
       "    <tr>\n",
       "      <th>0</th>\n",
       "      <td>mirtazapine</td>\n",
       "      <td>depression</td>\n",
       "      <td>10</td>\n",
       "      <td>22</td>\n",
       "      <td>2012</td>\n",
       "      <td>2</td>\n",
       "      <td>28</td>\n",
       "      <td>ive tri antidepress year citalopram fluoxetin ...</td>\n",
       "      <td>1</td>\n",
       "    </tr>\n",
       "    <tr>\n",
       "      <th>1</th>\n",
       "      <td>mesalamine</td>\n",
       "      <td>crohn s disease maintenance</td>\n",
       "      <td>8</td>\n",
       "      <td>17</td>\n",
       "      <td>2009</td>\n",
       "      <td>5</td>\n",
       "      <td>17</td>\n",
       "      <td>son ha crohn diseas ha done veri well asacol h...</td>\n",
       "      <td>1</td>\n",
       "    </tr>\n",
       "    <tr>\n",
       "      <th>2</th>\n",
       "      <td>bactrim</td>\n",
       "      <td>urinary tract infection</td>\n",
       "      <td>9</td>\n",
       "      <td>3</td>\n",
       "      <td>2017</td>\n",
       "      <td>9</td>\n",
       "      <td>29</td>\n",
       "      <td>quick reduct symptom</td>\n",
       "      <td>1</td>\n",
       "    </tr>\n",
       "    <tr>\n",
       "      <th>3</th>\n",
       "      <td>contrave</td>\n",
       "      <td>weight loss</td>\n",
       "      <td>9</td>\n",
       "      <td>35</td>\n",
       "      <td>2017</td>\n",
       "      <td>3</td>\n",
       "      <td>5</td>\n",
       "      <td>contrav combin drug use alcohol smoke opioid c...</td>\n",
       "      <td>1</td>\n",
       "    </tr>\n",
       "    <tr>\n",
       "      <th>4</th>\n",
       "      <td>cyclafem</td>\n",
       "      <td>birth control</td>\n",
       "      <td>9</td>\n",
       "      <td>4</td>\n",
       "      <td>2015</td>\n",
       "      <td>10</td>\n",
       "      <td>22</td>\n",
       "      <td>thi birth control one cycl read review thi typ...</td>\n",
       "      <td>1</td>\n",
       "    </tr>\n",
       "    <tr>\n",
       "      <th>...</th>\n",
       "      <td>...</td>\n",
       "      <td>...</td>\n",
       "      <td>...</td>\n",
       "      <td>...</td>\n",
       "      <td>...</td>\n",
       "      <td>...</td>\n",
       "      <td>...</td>\n",
       "      <td>...</td>\n",
       "      <td>...</td>\n",
       "    </tr>\n",
       "    <tr>\n",
       "      <th>53761</th>\n",
       "      <td>tamoxifen</td>\n",
       "      <td>breast cancer prevention</td>\n",
       "      <td>10</td>\n",
       "      <td>40</td>\n",
       "      <td>2014</td>\n",
       "      <td>9</td>\n",
       "      <td>13</td>\n",
       "      <td>taken tamoxifen year side effect sever sweat d...</td>\n",
       "      <td>1</td>\n",
       "    </tr>\n",
       "    <tr>\n",
       "      <th>53762</th>\n",
       "      <td>escitalopram</td>\n",
       "      <td>anxiety</td>\n",
       "      <td>9</td>\n",
       "      <td>11</td>\n",
       "      <td>2016</td>\n",
       "      <td>10</td>\n",
       "      <td>8</td>\n",
       "      <td>ive take lexapro escitaploprgram sinc februari...</td>\n",
       "      <td>1</td>\n",
       "    </tr>\n",
       "    <tr>\n",
       "      <th>53763</th>\n",
       "      <td>levonorgestrel</td>\n",
       "      <td>birth control</td>\n",
       "      <td>8</td>\n",
       "      <td>7</td>\n",
       "      <td>2010</td>\n",
       "      <td>11</td>\n",
       "      <td>15</td>\n",
       "      <td>im marri year old kid take pill wa hassl decid...</td>\n",
       "      <td>1</td>\n",
       "    </tr>\n",
       "    <tr>\n",
       "      <th>53764</th>\n",
       "      <td>tapentadol</td>\n",
       "      <td>pain</td>\n",
       "      <td>1</td>\n",
       "      <td>20</td>\n",
       "      <td>2011</td>\n",
       "      <td>11</td>\n",
       "      <td>28</td>\n",
       "      <td>wa prescrib nucynta sever neck shoulder pain t...</td>\n",
       "      <td>0</td>\n",
       "    </tr>\n",
       "    <tr>\n",
       "      <th>53765</th>\n",
       "      <td>arthrotec</td>\n",
       "      <td>sciatica</td>\n",
       "      <td>9</td>\n",
       "      <td>40</td>\n",
       "      <td>2009</td>\n",
       "      <td>9</td>\n",
       "      <td>13</td>\n",
       "      <td>work</td>\n",
       "      <td>1</td>\n",
       "    </tr>\n",
       "  </tbody>\n",
       "</table>\n",
       "<p>53471 rows × 9 columns</p>\n",
       "</div>"
      ],
      "text/plain": [
       "             drugname                    condition  rating  usefulcount  year  \\\n",
       "0         mirtazapine                   depression      10           22  2012   \n",
       "1          mesalamine  crohn s disease maintenance       8           17  2009   \n",
       "2             bactrim      urinary tract infection       9            3  2017   \n",
       "3            contrave                  weight loss       9           35  2017   \n",
       "4          cyclafem                  birth control       9            4  2015   \n",
       "...               ...                          ...     ...          ...   ...   \n",
       "53761       tamoxifen     breast cancer prevention      10           40  2014   \n",
       "53762    escitalopram                      anxiety       9           11  2016   \n",
       "53763  levonorgestrel                birth control       8            7  2010   \n",
       "53764      tapentadol                         pain       1           20  2011   \n",
       "53765       arthrotec                     sciatica       9           40  2009   \n",
       "\n",
       "       month  day                                   processed_review  \\\n",
       "0          2   28  ive tri antidepress year citalopram fluoxetin ...   \n",
       "1          5   17  son ha crohn diseas ha done veri well asacol h...   \n",
       "2          9   29                               quick reduct symptom   \n",
       "3          3    5  contrav combin drug use alcohol smoke opioid c...   \n",
       "4         10   22  thi birth control one cycl read review thi typ...   \n",
       "...      ...  ...                                                ...   \n",
       "53761      9   13  taken tamoxifen year side effect sever sweat d...   \n",
       "53762     10    8  ive take lexapro escitaploprgram sinc februari...   \n",
       "53763     11   15  im marri year old kid take pill wa hassl decid...   \n",
       "53764     11   28  wa prescrib nucynta sever neck shoulder pain t...   \n",
       "53765      9   13                                               work   \n",
       "\n",
       "       sentiment_rate  \n",
       "0                   1  \n",
       "1                   1  \n",
       "2                   1  \n",
       "3                   1  \n",
       "4                   1  \n",
       "...               ...  \n",
       "53761               1  \n",
       "53762               1  \n",
       "53763               1  \n",
       "53764               0  \n",
       "53765               1  \n",
       "\n",
       "[53471 rows x 9 columns]"
      ]
     },
     "execution_count": 49,
     "metadata": {},
     "output_type": "execute_result"
    }
   ],
   "source": [
    "medicine"
   ]
  },
  {
   "cell_type": "code",
   "execution_count": 50,
   "metadata": {},
   "outputs": [],
   "source": [
    "from textblob import TextBlob"
   ]
  },
  {
   "cell_type": "code",
   "execution_count": 51,
   "metadata": {},
   "outputs": [],
   "source": [
    "# Apply sentimental Analysis : =====\n",
    "def sentiment(review):\n",
    "    # Sentiment polarity of the reviews\n",
    "    pol = []\n",
    "    for i in review:\n",
    "        analysis = TextBlob(i)\n",
    "        pol.append(analysis.sentiment.polarity)\n",
    "    return pol"
   ]
  },
  {
   "cell_type": "code",
   "execution_count": 52,
   "metadata": {},
   "outputs": [],
   "source": [
    "medicine['sentimentscore'] = sentiment(medicine.processed_review)"
   ]
  },
  {
   "cell_type": "code",
   "execution_count": 53,
   "metadata": {},
   "outputs": [
    {
     "data": {
      "text/html": [
       "<div>\n",
       "<style scoped>\n",
       "    .dataframe tbody tr th:only-of-type {\n",
       "        vertical-align: middle;\n",
       "    }\n",
       "\n",
       "    .dataframe tbody tr th {\n",
       "        vertical-align: top;\n",
       "    }\n",
       "\n",
       "    .dataframe thead th {\n",
       "        text-align: right;\n",
       "    }\n",
       "</style>\n",
       "<table border=\"1\" class=\"dataframe\">\n",
       "  <thead>\n",
       "    <tr style=\"text-align: right;\">\n",
       "      <th></th>\n",
       "      <th>drugname</th>\n",
       "      <th>condition</th>\n",
       "      <th>rating</th>\n",
       "      <th>usefulcount</th>\n",
       "      <th>year</th>\n",
       "      <th>month</th>\n",
       "      <th>day</th>\n",
       "      <th>processed_review</th>\n",
       "      <th>sentiment_rate</th>\n",
       "      <th>sentimentscore</th>\n",
       "    </tr>\n",
       "  </thead>\n",
       "  <tbody>\n",
       "    <tr>\n",
       "      <th>0</th>\n",
       "      <td>mirtazapine</td>\n",
       "      <td>depression</td>\n",
       "      <td>10</td>\n",
       "      <td>22</td>\n",
       "      <td>2012</td>\n",
       "      <td>2</td>\n",
       "      <td>28</td>\n",
       "      <td>ive tri antidepress year citalopram fluoxetin ...</td>\n",
       "      <td>1</td>\n",
       "      <td>-0.122222</td>\n",
       "    </tr>\n",
       "    <tr>\n",
       "      <th>1</th>\n",
       "      <td>mesalamine</td>\n",
       "      <td>crohn s disease maintenance</td>\n",
       "      <td>8</td>\n",
       "      <td>17</td>\n",
       "      <td>2009</td>\n",
       "      <td>5</td>\n",
       "      <td>17</td>\n",
       "      <td>son ha crohn diseas ha done veri well asacol h...</td>\n",
       "      <td>1</td>\n",
       "      <td>-0.300000</td>\n",
       "    </tr>\n",
       "    <tr>\n",
       "      <th>2</th>\n",
       "      <td>bactrim</td>\n",
       "      <td>urinary tract infection</td>\n",
       "      <td>9</td>\n",
       "      <td>3</td>\n",
       "      <td>2017</td>\n",
       "      <td>9</td>\n",
       "      <td>29</td>\n",
       "      <td>quick reduct symptom</td>\n",
       "      <td>1</td>\n",
       "      <td>0.333333</td>\n",
       "    </tr>\n",
       "    <tr>\n",
       "      <th>3</th>\n",
       "      <td>contrave</td>\n",
       "      <td>weight loss</td>\n",
       "      <td>9</td>\n",
       "      <td>35</td>\n",
       "      <td>2017</td>\n",
       "      <td>3</td>\n",
       "      <td>5</td>\n",
       "      <td>contrav combin drug use alcohol smoke opioid c...</td>\n",
       "      <td>1</td>\n",
       "      <td>0.700000</td>\n",
       "    </tr>\n",
       "    <tr>\n",
       "      <th>4</th>\n",
       "      <td>cyclafem</td>\n",
       "      <td>birth control</td>\n",
       "      <td>9</td>\n",
       "      <td>4</td>\n",
       "      <td>2015</td>\n",
       "      <td>10</td>\n",
       "      <td>22</td>\n",
       "      <td>thi birth control one cycl read review thi typ...</td>\n",
       "      <td>1</td>\n",
       "      <td>0.208974</td>\n",
       "    </tr>\n",
       "  </tbody>\n",
       "</table>\n",
       "</div>"
      ],
      "text/plain": [
       "      drugname                    condition  rating  usefulcount  year  month  \\\n",
       "0  mirtazapine                   depression      10           22  2012      2   \n",
       "1   mesalamine  crohn s disease maintenance       8           17  2009      5   \n",
       "2      bactrim      urinary tract infection       9            3  2017      9   \n",
       "3     contrave                  weight loss       9           35  2017      3   \n",
       "4   cyclafem                  birth control       9            4  2015     10   \n",
       "\n",
       "   day                                   processed_review  sentiment_rate  \\\n",
       "0   28  ive tri antidepress year citalopram fluoxetin ...               1   \n",
       "1   17  son ha crohn diseas ha done veri well asacol h...               1   \n",
       "2   29                               quick reduct symptom               1   \n",
       "3    5  contrav combin drug use alcohol smoke opioid c...               1   \n",
       "4   22  thi birth control one cycl read review thi typ...               1   \n",
       "\n",
       "   sentimentscore  \n",
       "0       -0.122222  \n",
       "1       -0.300000  \n",
       "2        0.333333  \n",
       "3        0.700000  \n",
       "4        0.208974  "
      ]
     },
     "execution_count": 53,
     "metadata": {},
     "output_type": "execute_result"
    }
   ],
   "source": [
    "medicine.head()"
   ]
  },
  {
   "cell_type": "code",
   "execution_count": 54,
   "metadata": {},
   "outputs": [
    {
     "data": {
      "text/html": [
       "<div>\n",
       "<style scoped>\n",
       "    .dataframe tbody tr th:only-of-type {\n",
       "        vertical-align: middle;\n",
       "    }\n",
       "\n",
       "    .dataframe tbody tr th {\n",
       "        vertical-align: top;\n",
       "    }\n",
       "\n",
       "    .dataframe thead th {\n",
       "        text-align: right;\n",
       "    }\n",
       "</style>\n",
       "<table border=\"1\" class=\"dataframe\">\n",
       "  <thead>\n",
       "    <tr style=\"text-align: right;\">\n",
       "      <th></th>\n",
       "      <th>sentimentscore</th>\n",
       "      <th>Count</th>\n",
       "      <th>Percent</th>\n",
       "      <th>Cumulative Count</th>\n",
       "      <th>Cumulative Percent</th>\n",
       "    </tr>\n",
       "  </thead>\n",
       "  <tbody>\n",
       "    <tr>\n",
       "      <th>0</th>\n",
       "      <td>0.000</td>\n",
       "      <td>5936</td>\n",
       "      <td>0.111013</td>\n",
       "      <td>5936</td>\n",
       "      <td>0.111013</td>\n",
       "    </tr>\n",
       "    <tr>\n",
       "      <th>1</th>\n",
       "      <td>0.250</td>\n",
       "      <td>841</td>\n",
       "      <td>0.015728</td>\n",
       "      <td>6777</td>\n",
       "      <td>0.126742</td>\n",
       "    </tr>\n",
       "    <tr>\n",
       "      <th>2</th>\n",
       "      <td>0.500</td>\n",
       "      <td>780</td>\n",
       "      <td>0.014587</td>\n",
       "      <td>7557</td>\n",
       "      <td>0.141329</td>\n",
       "    </tr>\n",
       "    <tr>\n",
       "      <th>3</th>\n",
       "      <td>0.100</td>\n",
       "      <td>572</td>\n",
       "      <td>0.010697</td>\n",
       "      <td>8129</td>\n",
       "      <td>0.152026</td>\n",
       "    </tr>\n",
       "    <tr>\n",
       "      <th>4</th>\n",
       "      <td>0.200</td>\n",
       "      <td>532</td>\n",
       "      <td>0.009949</td>\n",
       "      <td>8661</td>\n",
       "      <td>0.161976</td>\n",
       "    </tr>\n",
       "    <tr>\n",
       "      <th>5</th>\n",
       "      <td>0.800</td>\n",
       "      <td>496</td>\n",
       "      <td>0.009276</td>\n",
       "      <td>9157</td>\n",
       "      <td>0.171252</td>\n",
       "    </tr>\n",
       "    <tr>\n",
       "      <th>6</th>\n",
       "      <td>0.300</td>\n",
       "      <td>373</td>\n",
       "      <td>0.006976</td>\n",
       "      <td>9530</td>\n",
       "      <td>0.178227</td>\n",
       "    </tr>\n",
       "    <tr>\n",
       "      <th>7</th>\n",
       "      <td>0.150</td>\n",
       "      <td>348</td>\n",
       "      <td>0.006508</td>\n",
       "      <td>9878</td>\n",
       "      <td>0.184736</td>\n",
       "    </tr>\n",
       "    <tr>\n",
       "      <th>8</th>\n",
       "      <td>0.125</td>\n",
       "      <td>348</td>\n",
       "      <td>0.006508</td>\n",
       "      <td>10226</td>\n",
       "      <td>0.191244</td>\n",
       "    </tr>\n",
       "    <tr>\n",
       "      <th>9</th>\n",
       "      <td>0.400</td>\n",
       "      <td>347</td>\n",
       "      <td>0.006489</td>\n",
       "      <td>10573</td>\n",
       "      <td>0.197733</td>\n",
       "    </tr>\n",
       "  </tbody>\n",
       "</table>\n",
       "</div>"
      ],
      "text/plain": [
       "   sentimentscore  Count   Percent  Cumulative Count  Cumulative Percent\n",
       "0           0.000   5936  0.111013              5936            0.111013\n",
       "1           0.250    841  0.015728              6777            0.126742\n",
       "2           0.500    780  0.014587              7557            0.141329\n",
       "3           0.100    572  0.010697              8129            0.152026\n",
       "4           0.200    532  0.009949              8661            0.161976\n",
       "5           0.800    496  0.009276              9157            0.171252\n",
       "6           0.300    373  0.006976              9530            0.178227\n",
       "7           0.150    348  0.006508              9878            0.184736\n",
       "8           0.125    348  0.006508             10226            0.191244\n",
       "9           0.400    347  0.006489             10573            0.197733"
      ]
     },
     "execution_count": 54,
     "metadata": {},
     "output_type": "execute_result"
    }
   ],
   "source": [
    "medicine.stb.freq(['sentimentscore']).head(10)"
   ]
  },
  {
   "cell_type": "code",
   "execution_count": 55,
   "metadata": {},
   "outputs": [
    {
     "data": {
      "image/png": "[encoded data removed]",
      "text/plain": [
       "<Figure size 504x360 with 2 Axes>"
      ]
     },
     "metadata": {},
     "output_type": "display_data"
    }
   ],
   "source": [
    "# Heatmap of the correlation matrix\n",
    "plt.rcParams['figure.figsize'] = [7,5]\n",
    "sns.set(font_scale = 1.2)\n",
    "corr = medicine.select_dtypes(include = 'int64').corr()\n",
    "sns_heat = sns.heatmap(corr, annot = True, vmin=-1, vmax=1, center=0,\n",
    "            cmap=sns.diverging_palette(20, 220, n=200), square=True);\n",
    "plt.setp(sns_heat.get_xticklabels(), rotation = 45);"
   ]
  },
  {
   "cell_type": "code",
   "execution_count": 56,
   "metadata": {},
   "outputs": [],
   "source": [
    "df=medicine.copy()"
   ]
  },
  {
   "cell_type": "code",
   "execution_count": 57,
   "metadata": {},
   "outputs": [
    {
     "data": {
      "text/html": [
       "<div>\n",
       "<style scoped>\n",
       "    .dataframe tbody tr th:only-of-type {\n",
       "        vertical-align: middle;\n",
       "    }\n",
       "\n",
       "    .dataframe tbody tr th {\n",
       "        vertical-align: top;\n",
       "    }\n",
       "\n",
       "    .dataframe thead th {\n",
       "        text-align: right;\n",
       "    }\n",
       "</style>\n",
       "<table border=\"1\" class=\"dataframe\">\n",
       "  <thead>\n",
       "    <tr style=\"text-align: right;\">\n",
       "      <th></th>\n",
       "      <th>drugname</th>\n",
       "      <th>condition</th>\n",
       "      <th>rating</th>\n",
       "      <th>usefulcount</th>\n",
       "      <th>year</th>\n",
       "      <th>month</th>\n",
       "      <th>day</th>\n",
       "      <th>processed_review</th>\n",
       "      <th>sentiment_rate</th>\n",
       "      <th>sentimentscore</th>\n",
       "    </tr>\n",
       "  </thead>\n",
       "  <tbody>\n",
       "    <tr>\n",
       "      <th>0</th>\n",
       "      <td>mirtazapine</td>\n",
       "      <td>depression</td>\n",
       "      <td>10</td>\n",
       "      <td>22</td>\n",
       "      <td>2012</td>\n",
       "      <td>2</td>\n",
       "      <td>28</td>\n",
       "      <td>ive tri antidepress year citalopram fluoxetin ...</td>\n",
       "      <td>1</td>\n",
       "      <td>-0.122222</td>\n",
       "    </tr>\n",
       "    <tr>\n",
       "      <th>1</th>\n",
       "      <td>mesalamine</td>\n",
       "      <td>crohn s disease maintenance</td>\n",
       "      <td>8</td>\n",
       "      <td>17</td>\n",
       "      <td>2009</td>\n",
       "      <td>5</td>\n",
       "      <td>17</td>\n",
       "      <td>son ha crohn diseas ha done veri well asacol h...</td>\n",
       "      <td>1</td>\n",
       "      <td>-0.300000</td>\n",
       "    </tr>\n",
       "    <tr>\n",
       "      <th>2</th>\n",
       "      <td>bactrim</td>\n",
       "      <td>urinary tract infection</td>\n",
       "      <td>9</td>\n",
       "      <td>3</td>\n",
       "      <td>2017</td>\n",
       "      <td>9</td>\n",
       "      <td>29</td>\n",
       "      <td>quick reduct symptom</td>\n",
       "      <td>1</td>\n",
       "      <td>0.333333</td>\n",
       "    </tr>\n",
       "    <tr>\n",
       "      <th>3</th>\n",
       "      <td>contrave</td>\n",
       "      <td>weight loss</td>\n",
       "      <td>9</td>\n",
       "      <td>35</td>\n",
       "      <td>2017</td>\n",
       "      <td>3</td>\n",
       "      <td>5</td>\n",
       "      <td>contrav combin drug use alcohol smoke opioid c...</td>\n",
       "      <td>1</td>\n",
       "      <td>0.700000</td>\n",
       "    </tr>\n",
       "    <tr>\n",
       "      <th>4</th>\n",
       "      <td>cyclafem</td>\n",
       "      <td>birth control</td>\n",
       "      <td>9</td>\n",
       "      <td>4</td>\n",
       "      <td>2015</td>\n",
       "      <td>10</td>\n",
       "      <td>22</td>\n",
       "      <td>thi birth control one cycl read review thi typ...</td>\n",
       "      <td>1</td>\n",
       "      <td>0.208974</td>\n",
       "    </tr>\n",
       "    <tr>\n",
       "      <th>...</th>\n",
       "      <td>...</td>\n",
       "      <td>...</td>\n",
       "      <td>...</td>\n",
       "      <td>...</td>\n",
       "      <td>...</td>\n",
       "      <td>...</td>\n",
       "      <td>...</td>\n",
       "      <td>...</td>\n",
       "      <td>...</td>\n",
       "      <td>...</td>\n",
       "    </tr>\n",
       "    <tr>\n",
       "      <th>53761</th>\n",
       "      <td>tamoxifen</td>\n",
       "      <td>breast cancer prevention</td>\n",
       "      <td>10</td>\n",
       "      <td>40</td>\n",
       "      <td>2014</td>\n",
       "      <td>9</td>\n",
       "      <td>13</td>\n",
       "      <td>taken tamoxifen year side effect sever sweat d...</td>\n",
       "      <td>1</td>\n",
       "      <td>-0.078571</td>\n",
       "    </tr>\n",
       "    <tr>\n",
       "      <th>53762</th>\n",
       "      <td>escitalopram</td>\n",
       "      <td>anxiety</td>\n",
       "      <td>9</td>\n",
       "      <td>11</td>\n",
       "      <td>2016</td>\n",
       "      <td>10</td>\n",
       "      <td>8</td>\n",
       "      <td>ive take lexapro escitaploprgram sinc februari...</td>\n",
       "      <td>1</td>\n",
       "      <td>0.100265</td>\n",
       "    </tr>\n",
       "    <tr>\n",
       "      <th>53763</th>\n",
       "      <td>levonorgestrel</td>\n",
       "      <td>birth control</td>\n",
       "      <td>8</td>\n",
       "      <td>7</td>\n",
       "      <td>2010</td>\n",
       "      <td>11</td>\n",
       "      <td>15</td>\n",
       "      <td>im marri year old kid take pill wa hassl decid...</td>\n",
       "      <td>1</td>\n",
       "      <td>0.069949</td>\n",
       "    </tr>\n",
       "    <tr>\n",
       "      <th>53764</th>\n",
       "      <td>tapentadol</td>\n",
       "      <td>pain</td>\n",
       "      <td>1</td>\n",
       "      <td>20</td>\n",
       "      <td>2011</td>\n",
       "      <td>11</td>\n",
       "      <td>28</td>\n",
       "      <td>wa prescrib nucynta sever neck shoulder pain t...</td>\n",
       "      <td>0</td>\n",
       "      <td>0.000000</td>\n",
       "    </tr>\n",
       "    <tr>\n",
       "      <th>53765</th>\n",
       "      <td>arthrotec</td>\n",
       "      <td>sciatica</td>\n",
       "      <td>9</td>\n",
       "      <td>40</td>\n",
       "      <td>2009</td>\n",
       "      <td>9</td>\n",
       "      <td>13</td>\n",
       "      <td>work</td>\n",
       "      <td>1</td>\n",
       "      <td>0.000000</td>\n",
       "    </tr>\n",
       "  </tbody>\n",
       "</table>\n",
       "<p>53471 rows × 10 columns</p>\n",
       "</div>"
      ],
      "text/plain": [
       "             drugname                    condition  rating  usefulcount  year  \\\n",
       "0         mirtazapine                   depression      10           22  2012   \n",
       "1          mesalamine  crohn s disease maintenance       8           17  2009   \n",
       "2             bactrim      urinary tract infection       9            3  2017   \n",
       "3            contrave                  weight loss       9           35  2017   \n",
       "4          cyclafem                  birth control       9            4  2015   \n",
       "...               ...                          ...     ...          ...   ...   \n",
       "53761       tamoxifen     breast cancer prevention      10           40  2014   \n",
       "53762    escitalopram                      anxiety       9           11  2016   \n",
       "53763  levonorgestrel                birth control       8            7  2010   \n",
       "53764      tapentadol                         pain       1           20  2011   \n",
       "53765       arthrotec                     sciatica       9           40  2009   \n",
       "\n",
       "       month  day                                   processed_review  \\\n",
       "0          2   28  ive tri antidepress year citalopram fluoxetin ...   \n",
       "1          5   17  son ha crohn diseas ha done veri well asacol h...   \n",
       "2          9   29                               quick reduct symptom   \n",
       "3          3    5  contrav combin drug use alcohol smoke opioid c...   \n",
       "4         10   22  thi birth control one cycl read review thi typ...   \n",
       "...      ...  ...                                                ...   \n",
       "53761      9   13  taken tamoxifen year side effect sever sweat d...   \n",
       "53762     10    8  ive take lexapro escitaploprgram sinc februari...   \n",
       "53763     11   15  im marri year old kid take pill wa hassl decid...   \n",
       "53764     11   28  wa prescrib nucynta sever neck shoulder pain t...   \n",
       "53765      9   13                                               work   \n",
       "\n",
       "       sentiment_rate  sentimentscore  \n",
       "0                   1       -0.122222  \n",
       "1                   1       -0.300000  \n",
       "2                   1        0.333333  \n",
       "3                   1        0.700000  \n",
       "4                   1        0.208974  \n",
       "...               ...             ...  \n",
       "53761               1       -0.078571  \n",
       "53762               1        0.100265  \n",
       "53763               1        0.069949  \n",
       "53764               0        0.000000  \n",
       "53765               1        0.000000  \n",
       "\n",
       "[53471 rows x 10 columns]"
      ]
     },
     "execution_count": 57,
     "metadata": {},
     "output_type": "execute_result"
    }
   ],
   "source": [
    "df"
   ]
  },
  {
   "cell_type": "code",
   "execution_count": 58,
   "metadata": {},
   "outputs": [],
   "source": [
    "from sklearn.feature_extraction.text import CountVectorizer"
   ]
  },
  {
   "cell_type": "code",
   "execution_count": 59,
   "metadata": {},
   "outputs": [],
   "source": [
    "cv = CountVectorizer(max_df=0.95, min_df=2, stop_words='english')"
   ]
  },
  {
   "cell_type": "code",
   "execution_count": 60,
   "metadata": {},
   "outputs": [],
   "source": [
    "dtm = cv.fit_transform(df['processed_review'])"
   ]
  },
  {
   "cell_type": "code",
   "execution_count": 61,
   "metadata": {},
   "outputs": [
    {
     "data": {
      "text/plain": [
       "<53471x12597 sparse matrix of type '<class 'numpy.int64'>'\n",
       "\twith 1744361 stored elements in Compressed Sparse Row format>"
      ]
     },
     "execution_count": 61,
     "metadata": {},
     "output_type": "execute_result"
    }
   ],
   "source": [
    "dtm"
   ]
  },
  {
   "cell_type": "code",
   "execution_count": 62,
   "metadata": {},
   "outputs": [],
   "source": [
    "from sklearn.decomposition import LatentDirichletAllocation"
   ]
  },
  {
   "cell_type": "code",
   "execution_count": 63,
   "metadata": {},
   "outputs": [],
   "source": [
    "LDA = LatentDirichletAllocation(n_components=9,random_state=42)"
   ]
  },
  {
   "cell_type": "code",
   "execution_count": 64,
   "metadata": {},
   "outputs": [
    {
     "data": {
      "text/plain": [
       "LatentDirichletAllocation(batch_size=128, doc_topic_prior=None,\n",
       "                          evaluate_every=-1, learning_decay=0.7,\n",
       "                          learning_method='batch', learning_offset=10.0,\n",
       "                          max_doc_update_iter=100, max_iter=10,\n",
       "                          mean_change_tol=0.001, n_components=9, n_jobs=None,\n",
       "                          perp_tol=0.1, random_state=42, topic_word_prior=None,\n",
       "                          total_samples=1000000.0, verbose=0)"
      ]
     },
     "execution_count": 64,
     "metadata": {},
     "output_type": "execute_result"
    }
   ],
   "source": [
    "LDA.fit(dtm)"
   ]
  },
  {
   "cell_type": "code",
   "execution_count": 65,
   "metadata": {},
   "outputs": [
    {
     "data": {
      "text/plain": [
       "12597"
      ]
     },
     "execution_count": 65,
     "metadata": {},
     "output_type": "execute_result"
    }
   ],
   "source": [
    "len(cv.get_feature_names())"
   ]
  },
  {
   "cell_type": "code",
   "execution_count": 66,
   "metadata": {},
   "outputs": [],
   "source": [
    "import random"
   ]
  },
  {
   "cell_type": "code",
   "execution_count": 67,
   "metadata": {},
   "outputs": [
    {
     "name": "stdout",
     "output_type": "stream",
     "text": [
      "buse\n",
      "dexa\n",
      "codien\n",
      "scrotum\n",
      "ductal\n",
      "netflix\n",
      "dissip\n",
      "minocyclen\n",
      "ladi\n",
      "bulim\n",
      "endow\n",
      "wretch\n",
      "optim\n",
      "swam\n",
      "bite\n",
      "english\n",
      "imageri\n",
      "surgeri\n",
      "tami\n",
      "mucosa\n"
     ]
    }
   ],
   "source": [
    "for i in range(20):\n",
    "    random_word_id = random.randint(0,12596)\n",
    "    print(cv.get_feature_names()[random_word_id])"
   ]
  },
  {
   "cell_type": "code",
   "execution_count": 68,
   "metadata": {},
   "outputs": [
    {
     "data": {
      "text/plain": [
       "array([[ 0.11112136,  4.11099367,  0.11122225, ...,  0.11111452,\n",
       "         0.11111112,  0.11111112],\n",
       "       [ 2.27540845,  0.11111111,  0.11111111, ...,  0.11111111,\n",
       "         0.11111111,  0.11111111],\n",
       "       [ 0.1111172 ,  0.11111111,  0.11111111, ...,  0.11111111,\n",
       "         0.11115277,  0.11140283],\n",
       "       ...,\n",
       "       [ 0.11111201,  0.11111111,  0.11111111, ...,  0.11111746,\n",
       "         0.11111112,  2.10938106],\n",
       "       [36.94672876,  0.11116759,  0.11122901, ...,  0.11111334,\n",
       "         0.11139667,  0.11187314],\n",
       "       [ 0.11115054,  0.11111111,  0.11111111, ...,  0.11115617,\n",
       "         0.11111111,  0.11148669]])"
      ]
     },
     "execution_count": 68,
     "metadata": {},
     "output_type": "execute_result"
    }
   ],
   "source": [
    "LDA.components_"
   ]
  },
  {
   "cell_type": "code",
   "execution_count": 69,
   "metadata": {},
   "outputs": [],
   "source": [
    "single_topic = LDA.components_[0]"
   ]
  },
  {
   "cell_type": "code",
   "execution_count": 70,
   "metadata": {},
   "outputs": [
    {
     "data": {
      "text/plain": [
       "array([0.11112136, 4.11099367, 0.11122225, ..., 0.11111452, 0.11111112,\n",
       "       0.11111112])"
      ]
     },
     "execution_count": 70,
     "metadata": {},
     "output_type": "execute_result"
    }
   ],
   "source": [
    "single_topic"
   ]
  },
  {
   "cell_type": "code",
   "execution_count": 71,
   "metadata": {},
   "outputs": [
    {
     "data": {
      "text/plain": [
       "array([ 3947,  1832,  7409, ..., 12088, 10022, 11816], dtype=int64)"
      ]
     },
     "execution_count": 71,
     "metadata": {},
     "output_type": "execute_result"
    }
   ],
   "source": [
    "# Returns the indices that would sort this array.\n",
    "single_topic.argsort()"
   ]
  },
  {
   "cell_type": "code",
   "execution_count": 72,
   "metadata": {},
   "outputs": [
    {
     "data": {
      "text/plain": [
       "array([12363, 12478,  1966,  7009,  3905,   108, 11079, 12088, 10022,\n",
       "       11816], dtype=int64)"
      ]
     },
     "execution_count": 72,
     "metadata": {},
     "output_type": "execute_result"
    }
   ],
   "source": [
    "top_word_indices = single_topic.argsort()[-10:]\n",
    "top_word_indices"
   ]
  },
  {
   "cell_type": "code",
   "execution_count": 73,
   "metadata": {},
   "outputs": [
    {
     "name": "stdout",
     "output_type": "stream",
     "text": [
      "work\n",
      "year\n",
      "clear\n",
      "month\n",
      "face\n",
      "acn\n",
      "thi\n",
      "wa\n",
      "skin\n",
      "use\n"
     ]
    }
   ],
   "source": [
    "for index in top_word_indices:\n",
    "    print(cv.get_feature_names()[index])"
   ]
  },
  {
   "cell_type": "code",
   "execution_count": 74,
   "metadata": {},
   "outputs": [
    {
     "name": "stdout",
     "output_type": "stream",
     "text": [
      "THE TOP 15 WORDS FOR TOPIC #0\n",
      "['tri', 'start', 'day', 'ha', 'week', 'work', 'year', 'clear', 'month', 'face', 'acn', 'thi', 'wa', 'skin', 'use']\n",
      "\n",
      "\n",
      "THE TOP 15 WORDS FOR TOPIC #1\n",
      "['year', 'start', 'weight', 'week', 'gain', 'day', 'birth', 'im', 'control', 'ive', 'month', 'pill', 'wa', 'period', 'thi']\n",
      "\n",
      "\n",
      "THE TOP 15 WORDS FOR TOPIC #2\n",
      "['week', 'month', 'mg', 'lost', 'gain', 'day', 'effect', 'start', 'year', 'wa', 'ha', 'lb', 'eat', 'thi', 'weight']\n",
      "\n",
      "\n",
      "THE TOP 15 WORDS FOR TOPIC #3\n",
      "['help', 'medicin', 'ha', 'medic', 'doctor', 'use', 'sever', 'time', 'effect', 'year', 'work', 'day', 'wa', 'thi', 'pain']\n",
      "\n",
      "\n",
      "THE TOP 15 WORDS FOR TOPIC #4\n",
      "['drink', 'stomach', 'water', 'bad', 'felt', 'like', 'time', 'tast', 'feel', 'work', 'hour', 'took', 'thi', 'day', 'wa']\n",
      "\n",
      "\n",
      "THE TOP 15 WORDS FOR TOPIC #5\n",
      "['help', 'start', 'medic', 'week', 'work', 'ha', 'day', 'feel', 'year', 'effect', 'depress', 'thi', 'anxieti', 'mg', 'wa']\n",
      "\n",
      "\n",
      "THE TOP 15 WORDS FOR TOPIC #6\n",
      "['mirena', 'spot', 'im', 'thi', 'year', 'got', 'week', 'bleed', 'month', 'day', 'period', 'cramp', 'pain', 'insert', 'wa']\n",
      "\n",
      "\n",
      "THE TOP 15 WORDS FOR TOPIC #7\n",
      "['hour', 'life', 'im', 'time', 'year', 'night', 'quot', 'work', 'mg', 'like', 'day', 'feel', 'sleep', 'thi', 'wa']\n",
      "\n",
      "\n",
      "THE TOP 15 WORDS FOR TOPIC #8\n",
      "['eat', 'feel', 'amp', 'ive', 'work', 'lost', 'headach', 'im', 'effect', 'month', 'thi', 'start', 'day', 'week', 'wa']\n",
      "\n",
      "\n"
     ]
    }
   ],
   "source": [
    "## Getting Top 9 list of topic  :-----\n",
    "\n",
    "for index,topic in enumerate(LDA.components_):\n",
    "    print(f'THE TOP 15 WORDS FOR TOPIC #{index}')\n",
    "    print([cv.get_feature_names()[i] for i in topic.argsort()[-15:]])\n",
    "    print('\\n')"
   ]
  },
  {
   "cell_type": "code",
   "execution_count": 76,
   "metadata": {},
   "outputs": [
    {
     "data": {
      "text/plain": [
       "<53471x12597 sparse matrix of type '<class 'numpy.int64'>'\n",
       "\twith 1744361 stored elements in Compressed Sparse Row format>"
      ]
     },
     "execution_count": 76,
     "metadata": {},
     "output_type": "execute_result"
    }
   ],
   "source": [
    "dtm\n",
    "topic_results = LDA.transform(dtm)\n",
    "topic_results.shape\n",
    "topic_results[0]"
   ]
  },
  {
   "cell_type": "code",
   "execution_count": 80,
   "metadata": {},
   "outputs": [
    {
     "data": {
      "text/plain": [
       "5"
      ]
     },
     "execution_count": 80,
     "metadata": {},
     "output_type": "execute_result"
    }
   ],
   "source": [
    "topic_results[0].argmax()"
   ]
  },
  {
   "cell_type": "code",
   "execution_count": 81,
   "metadata": {},
   "outputs": [],
   "source": [
    "df['Topic'] = topic_results.argmax(axis=1)"
   ]
  },
  {
   "cell_type": "code",
   "execution_count": 87,
   "metadata": {},
   "outputs": [
    {
     "data": {
      "text/html": [
       "<div>\n",
       "<style scoped>\n",
       "    .dataframe tbody tr th:only-of-type {\n",
       "        vertical-align: middle;\n",
       "    }\n",
       "\n",
       "    .dataframe tbody tr th {\n",
       "        vertical-align: top;\n",
       "    }\n",
       "\n",
       "    .dataframe thead th {\n",
       "        text-align: right;\n",
       "    }\n",
       "</style>\n",
       "<table border=\"1\" class=\"dataframe\">\n",
       "  <thead>\n",
       "    <tr style=\"text-align: right;\">\n",
       "      <th></th>\n",
       "      <th>drugname</th>\n",
       "      <th>condition</th>\n",
       "      <th>rating</th>\n",
       "      <th>usefulcount</th>\n",
       "      <th>year</th>\n",
       "      <th>month</th>\n",
       "      <th>day</th>\n",
       "      <th>processed_review</th>\n",
       "      <th>sentiment_rate</th>\n",
       "      <th>sentimentscore</th>\n",
       "      <th>Topic</th>\n",
       "    </tr>\n",
       "  </thead>\n",
       "  <tbody>\n",
       "    <tr>\n",
       "      <th>0</th>\n",
       "      <td>mirtazapine</td>\n",
       "      <td>depression</td>\n",
       "      <td>10</td>\n",
       "      <td>22</td>\n",
       "      <td>2012</td>\n",
       "      <td>2</td>\n",
       "      <td>28</td>\n",
       "      <td>ive tri antidepress year citalopram fluoxetin ...</td>\n",
       "      <td>1</td>\n",
       "      <td>-0.122222</td>\n",
       "      <td>5</td>\n",
       "    </tr>\n",
       "    <tr>\n",
       "      <th>1</th>\n",
       "      <td>mesalamine</td>\n",
       "      <td>crohn s disease maintenance</td>\n",
       "      <td>8</td>\n",
       "      <td>17</td>\n",
       "      <td>2009</td>\n",
       "      <td>5</td>\n",
       "      <td>17</td>\n",
       "      <td>son ha crohn diseas ha done veri well asacol h...</td>\n",
       "      <td>1</td>\n",
       "      <td>-0.300000</td>\n",
       "      <td>2</td>\n",
       "    </tr>\n",
       "    <tr>\n",
       "      <th>2</th>\n",
       "      <td>bactrim</td>\n",
       "      <td>urinary tract infection</td>\n",
       "      <td>9</td>\n",
       "      <td>3</td>\n",
       "      <td>2017</td>\n",
       "      <td>9</td>\n",
       "      <td>29</td>\n",
       "      <td>quick reduct symptom</td>\n",
       "      <td>1</td>\n",
       "      <td>0.333333</td>\n",
       "      <td>2</td>\n",
       "    </tr>\n",
       "    <tr>\n",
       "      <th>3</th>\n",
       "      <td>contrave</td>\n",
       "      <td>weight loss</td>\n",
       "      <td>9</td>\n",
       "      <td>35</td>\n",
       "      <td>2017</td>\n",
       "      <td>3</td>\n",
       "      <td>5</td>\n",
       "      <td>contrav combin drug use alcohol smoke opioid c...</td>\n",
       "      <td>1</td>\n",
       "      <td>0.700000</td>\n",
       "      <td>8</td>\n",
       "    </tr>\n",
       "    <tr>\n",
       "      <th>4</th>\n",
       "      <td>cyclafem</td>\n",
       "      <td>birth control</td>\n",
       "      <td>9</td>\n",
       "      <td>4</td>\n",
       "      <td>2015</td>\n",
       "      <td>10</td>\n",
       "      <td>22</td>\n",
       "      <td>thi birth control one cycl read review thi typ...</td>\n",
       "      <td>1</td>\n",
       "      <td>0.208974</td>\n",
       "      <td>1</td>\n",
       "    </tr>\n",
       "  </tbody>\n",
       "</table>\n",
       "</div>"
      ],
      "text/plain": [
       "      drugname                    condition  rating  usefulcount  year  month  \\\n",
       "0  mirtazapine                   depression      10           22  2012      2   \n",
       "1   mesalamine  crohn s disease maintenance       8           17  2009      5   \n",
       "2      bactrim      urinary tract infection       9            3  2017      9   \n",
       "3     contrave                  weight loss       9           35  2017      3   \n",
       "4   cyclafem                  birth control       9            4  2015     10   \n",
       "\n",
       "   day                                   processed_review  sentiment_rate  \\\n",
       "0   28  ive tri antidepress year citalopram fluoxetin ...               1   \n",
       "1   17  son ha crohn diseas ha done veri well asacol h...               1   \n",
       "2   29                               quick reduct symptom               1   \n",
       "3    5  contrav combin drug use alcohol smoke opioid c...               1   \n",
       "4   22  thi birth control one cycl read review thi typ...               1   \n",
       "\n",
       "   sentimentscore  Topic  \n",
       "0       -0.122222      5  \n",
       "1       -0.300000      2  \n",
       "2        0.333333      2  \n",
       "3        0.700000      8  \n",
       "4        0.208974      1  "
      ]
     },
     "execution_count": 87,
     "metadata": {},
     "output_type": "execute_result"
    }
   ],
   "source": [
    "df.head()"
   ]
  },
  {
   "cell_type": "code",
   "execution_count": 165,
   "metadata": {},
   "outputs": [
    {
     "name": "stderr",
     "output_type": "stream",
     "text": [
      "C:\\ProgramData\\Anaconda3\\lib\\site-packages\\numpy\\core\\fromnumeric.py:3335: RuntimeWarning: Mean of empty slice.\n",
      "  out=out, **kwargs)\n"
     ]
    }
   ],
   "source": [
    "# Feature Engineering :\n",
    "#Word count in each review\n",
    "df['count_word']=df[\"processed_review\"].apply(lambda x: len(str(x).split()))\n",
    "\n",
    "#Unique word count \n",
    "df['count_unique_word']=df[\"processed_review\"].apply(lambda x: len(set(str(x).split())))\n",
    "\n",
    "#Letter count\n",
    "df['count_letters']=df[\"processed_review\"].apply(lambda x: len(str(x)))\n",
    "\n",
    "\n",
    "#Average length of the words\n",
    "df[\"mean_word_len\"] = df[\"processed_review\"].apply(lambda x: np.mean([len(w) for w in str(x).split()]))\n",
    "\n"
   ]
  },
  {
   "cell_type": "code",
   "execution_count": 166,
   "metadata": {},
   "outputs": [
    {
     "data": {
      "image/png": "[encoded data removed]",
      "text/plain": [
       "<Figure size 720x648 with 2 Axes>"
      ]
     },
     "metadata": {},
     "output_type": "display_data"
    }
   ],
   "source": [
    "#Feature Selection on the basis of correlation matrix\n",
    "# Heatmap of the correlation matrix\n",
    "plt.rcParams['figure.figsize'] = [10,9]\n",
    "sns.set(font_scale = 1.2)\n",
    "corr = df.select_dtypes(include = 'int64').corr()\n",
    "sns_heat = sns.heatmap(corr, annot = True, vmin=-1, vmax=1, center=0,\n",
    "            cmap=sns.diverging_palette(20, 220, n=200), square=True);\n",
    "plt.setp(sns_heat.get_xticklabels(), rotation = 45);\n",
    "\n",
    "\n",
    "# consider all column due to some relation "
   ]
  },
  {
   "cell_type": "code",
   "execution_count": 103,
   "metadata": {},
   "outputs": [],
   "source": [
    "# Label Encoding Drugname and Conditions\n",
    "from sklearn.preprocessing import LabelEncoder\n",
    "label_encoder_feat = {}\n",
    "for feature in ['drugname', 'condition']:\n",
    "    label_encoder_feat[feature] = LabelEncoder()\n",
    "    df[feature] = label_encoder_feat[feature].fit_transform(df[feature])"
   ]
  },
  {
   "cell_type": "code",
   "execution_count": 121,
   "metadata": {},
   "outputs": [
    {
     "data": {
      "text/plain": [
       "0       -0.122222\n",
       "1       -0.300000\n",
       "2        0.333333\n",
       "3        0.700000\n",
       "4        0.208974\n",
       "           ...   \n",
       "53761   -0.078571\n",
       "53762    0.100265\n",
       "53763    0.069949\n",
       "53764    0.000000\n",
       "53765    0.000000\n",
       "Name: sentimentscore, Length: 53471, dtype: float64"
      ]
     },
     "execution_count": 121,
     "metadata": {},
     "output_type": "execute_result"
    }
   ],
   "source": [
    "df['sentimentscore'].a"
   ]
  },
  {
   "cell_type": "code",
   "execution_count": 106,
   "metadata": {},
   "outputs": [
    {
     "data": {
      "text/plain": [
       "Index(['drugname', 'condition', 'rating', 'usefulcount', 'year', 'month',\n",
       "       'day', 'processed_review', 'sentiment_rate', 'sentimentscore', 'Topic',\n",
       "       'count_word', 'count_unique_word', 'count_letters', 'mean_word_len'],\n",
       "      dtype='object')"
      ]
     },
     "execution_count": 106,
     "metadata": {},
     "output_type": "execute_result"
    }
   ],
   "source": [
    "df.columns"
   ]
  },
  {
   "cell_type": "code",
   "execution_count": 128,
   "metadata": {},
   "outputs": [
    {
     "data": {
      "text/html": [
       "<div>\n",
       "<style scoped>\n",
       "    .dataframe tbody tr th:only-of-type {\n",
       "        vertical-align: middle;\n",
       "    }\n",
       "\n",
       "    .dataframe tbody tr th {\n",
       "        vertical-align: top;\n",
       "    }\n",
       "\n",
       "    .dataframe thead th {\n",
       "        text-align: right;\n",
       "    }\n",
       "</style>\n",
       "<table border=\"1\" class=\"dataframe\">\n",
       "  <thead>\n",
       "    <tr style=\"text-align: right;\">\n",
       "      <th></th>\n",
       "      <th>drugname</th>\n",
       "      <th>condition</th>\n",
       "      <th>rating</th>\n",
       "      <th>usefulcount</th>\n",
       "      <th>year</th>\n",
       "      <th>month</th>\n",
       "      <th>day</th>\n",
       "      <th>processed_review</th>\n",
       "      <th>sentiment_rate</th>\n",
       "      <th>sentimentscore</th>\n",
       "      <th>Topic</th>\n",
       "      <th>count_word</th>\n",
       "      <th>count_unique_word</th>\n",
       "      <th>count_letters</th>\n",
       "      <th>mean_word_len</th>\n",
       "    </tr>\n",
       "  </thead>\n",
       "  <tbody>\n",
       "    <tr>\n",
       "      <th>0</th>\n",
       "      <td>1560</td>\n",
       "      <td>164</td>\n",
       "      <td>10</td>\n",
       "      <td>22</td>\n",
       "      <td>2012</td>\n",
       "      <td>2</td>\n",
       "      <td>28</td>\n",
       "      <td>ive tri antidepress year citalopram fluoxetin ...</td>\n",
       "      <td>1</td>\n",
       "      <td>-0.122222</td>\n",
       "      <td>5</td>\n",
       "      <td>42</td>\n",
       "      <td>37</td>\n",
       "      <td>274</td>\n",
       "      <td>5.547619</td>\n",
       "    </tr>\n",
       "    <tr>\n",
       "      <th>1</th>\n",
       "      <td>1487</td>\n",
       "      <td>148</td>\n",
       "      <td>8</td>\n",
       "      <td>17</td>\n",
       "      <td>2009</td>\n",
       "      <td>5</td>\n",
       "      <td>17</td>\n",
       "      <td>son ha crohn diseas ha done veri well asacol h...</td>\n",
       "      <td>1</td>\n",
       "      <td>-0.300000</td>\n",
       "      <td>2</td>\n",
       "      <td>32</td>\n",
       "      <td>28</td>\n",
       "      <td>170</td>\n",
       "      <td>4.343750</td>\n",
       "    </tr>\n",
       "    <tr>\n",
       "      <th>2</th>\n",
       "      <td>292</td>\n",
       "      <td>636</td>\n",
       "      <td>9</td>\n",
       "      <td>3</td>\n",
       "      <td>2017</td>\n",
       "      <td>9</td>\n",
       "      <td>29</td>\n",
       "      <td>quick reduct symptom</td>\n",
       "      <td>1</td>\n",
       "      <td>0.333333</td>\n",
       "      <td>2</td>\n",
       "      <td>3</td>\n",
       "      <td>3</td>\n",
       "      <td>20</td>\n",
       "      <td>6.000000</td>\n",
       "    </tr>\n",
       "    <tr>\n",
       "      <th>3</th>\n",
       "      <td>589</td>\n",
       "      <td>657</td>\n",
       "      <td>9</td>\n",
       "      <td>35</td>\n",
       "      <td>2017</td>\n",
       "      <td>3</td>\n",
       "      <td>5</td>\n",
       "      <td>contrav combin drug use alcohol smoke opioid c...</td>\n",
       "      <td>1</td>\n",
       "      <td>0.700000</td>\n",
       "      <td>8</td>\n",
       "      <td>74</td>\n",
       "      <td>66</td>\n",
       "      <td>419</td>\n",
       "      <td>4.675676</td>\n",
       "    </tr>\n",
       "    <tr>\n",
       "      <th>4</th>\n",
       "      <td>620</td>\n",
       "      <td>84</td>\n",
       "      <td>9</td>\n",
       "      <td>4</td>\n",
       "      <td>2015</td>\n",
       "      <td>10</td>\n",
       "      <td>22</td>\n",
       "      <td>thi birth control one cycl read review thi typ...</td>\n",
       "      <td>1</td>\n",
       "      <td>0.208974</td>\n",
       "      <td>1</td>\n",
       "      <td>76</td>\n",
       "      <td>59</td>\n",
       "      <td>431</td>\n",
       "      <td>4.684211</td>\n",
       "    </tr>\n",
       "  </tbody>\n",
       "</table>\n",
       "</div>"
      ],
      "text/plain": [
       "   drugname  condition  rating  usefulcount  year  month  day  \\\n",
       "0      1560        164      10           22  2012      2   28   \n",
       "1      1487        148       8           17  2009      5   17   \n",
       "2       292        636       9            3  2017      9   29   \n",
       "3       589        657       9           35  2017      3    5   \n",
       "4       620         84       9            4  2015     10   22   \n",
       "\n",
       "                                    processed_review  sentiment_rate  \\\n",
       "0  ive tri antidepress year citalopram fluoxetin ...               1   \n",
       "1  son ha crohn diseas ha done veri well asacol h...               1   \n",
       "2                               quick reduct symptom               1   \n",
       "3  contrav combin drug use alcohol smoke opioid c...               1   \n",
       "4  thi birth control one cycl read review thi typ...               1   \n",
       "\n",
       "   sentimentscore  Topic  count_word  count_unique_word  count_letters  \\\n",
       "0       -0.122222      5          42                 37            274   \n",
       "1       -0.300000      2          32                 28            170   \n",
       "2        0.333333      2           3                  3             20   \n",
       "3        0.700000      8          74                 66            419   \n",
       "4        0.208974      1          76                 59            431   \n",
       "\n",
       "   mean_word_len  \n",
       "0       5.547619  \n",
       "1       4.343750  \n",
       "2       6.000000  \n",
       "3       4.675676  \n",
       "4       4.684211  "
      ]
     },
     "execution_count": 128,
     "metadata": {},
     "output_type": "execute_result"
    }
   ],
   "source": [
    "df['mean_word_len']=df['mean_word_len'].fillna(0)\n",
    "df.head()"
   ]
  },
  {
   "cell_type": "code",
   "execution_count": 130,
   "metadata": {},
   "outputs": [],
   "source": [
    "X = df[['drugname', 'condition', 'rating', 'usefulcount', 'year', 'month',\n",
    "       'day','sentimentscore', 'Topic','count_word', 'count_unique_word', 'count_letters', 'mean_word_len']]\n",
    "\n",
    "y = df['sentiment_rate']"
   ]
  },
  {
   "cell_type": "code",
   "execution_count": 141,
   "metadata": {},
   "outputs": [
    {
     "data": {
      "text/plain": [
       "((53471, 13), (53471,))"
      ]
     },
     "execution_count": 141,
     "metadata": {},
     "output_type": "execute_result"
    }
   ],
   "source": [
    "X.shape,y.shape"
   ]
  },
  {
   "cell_type": "markdown",
   "metadata": {},
   "source": [
    "# Modeling"
   ]
  },
  {
   "cell_type": "code",
   "execution_count": 137,
   "metadata": {},
   "outputs": [],
   "source": [
    "# NAIVE BAYES \n",
    "from sklearn.model_selection import train_test_split\n",
    "from sklearn.naive_bayes import GaussianNB\n",
    "from sklearn.metrics import accuracy_score\n",
    "\n",
    "X_train, X_test, y_train, y_test = train_test_split(X, y, test_size=0.2, random_state=0)\n",
    "gnb = GaussianNB()\n",
    "y_pred = gnb.fit(X_train, y_train).predict(X_test)"
   ]
  },
  {
   "cell_type": "code",
   "execution_count": 138,
   "metadata": {},
   "outputs": [
    {
     "data": {
      "text/plain": [
       "array([0, 0, 1, ..., 1, 1, 0], dtype=int64)"
      ]
     },
     "execution_count": 138,
     "metadata": {},
     "output_type": "execute_result"
    }
   ],
   "source": [
    "y_pred"
   ]
  },
  {
   "cell_type": "code",
   "execution_count": 158,
   "metadata": {},
   "outputs": [
    {
     "name": "stdout",
     "output_type": "stream",
     "text": [
      "\n",
      "\n",
      "Accuracy Score on test data with NaiveBaiyes : \n",
      "\n",
      "\n",
      "0.9886863020102852\n"
     ]
    }
   ],
   "source": [
    "print('\\n\\nAccuracy Score on test data with NaiveBaiyes : \\n\\n')\n",
    "print(accuracy_score(y_test,y_pred))"
   ]
  },
  {
   "cell_type": "code",
   "execution_count": 143,
   "metadata": {},
   "outputs": [],
   "source": [
    "# SUPPORT VECTOR MACHIME\n",
    "from sklearn import svm"
   ]
  },
  {
   "cell_type": "code",
   "execution_count": 145,
   "metadata": {},
   "outputs": [
    {
     "data": {
      "text/plain": [
       "((42776, 13), (10695, 13), (42776,), (10695,))"
      ]
     },
     "execution_count": 145,
     "metadata": {},
     "output_type": "execute_result"
    }
   ],
   "source": [
    "\n",
    "X_train, X_test, y_train, y_test = train_test_split(X, y, test_size=0.2, random_state=0)\n",
    "\n",
    "X_train.shape, X_test.shape, y_train.shape, y_test.shape"
   ]
  },
  {
   "cell_type": "code",
   "execution_count": 146,
   "metadata": {},
   "outputs": [],
   "source": [
    "clf = svm.SVC()"
   ]
  },
  {
   "cell_type": "code",
   "execution_count": 147,
   "metadata": {},
   "outputs": [
    {
     "data": {
      "text/plain": [
       "SVC(C=1.0, break_ties=False, cache_size=200, class_weight=None, coef0=0.0,\n",
       "    decision_function_shape='ovr', degree=3, gamma='scale', kernel='rbf',\n",
       "    max_iter=-1, probability=False, random_state=None, shrinking=True,\n",
       "    tol=0.001, verbose=False)"
      ]
     },
     "execution_count": 147,
     "metadata": {},
     "output_type": "execute_result"
    }
   ],
   "source": [
    "clf.fit(X_train,y_train)"
   ]
  },
  {
   "cell_type": "code",
   "execution_count": 149,
   "metadata": {},
   "outputs": [],
   "source": [
    "pred=clf.predict(X_test)"
   ]
  },
  {
   "cell_type": "code",
   "execution_count": 157,
   "metadata": {},
   "outputs": [
    {
     "name": "stdout",
     "output_type": "stream",
     "text": [
      "\n",
      "\n",
      "Accuracy Score on test data with svm: \n",
      "\n",
      "\n",
      "0.6992052360916317\n"
     ]
    }
   ],
   "source": [
    "print('\\n\\nAccuracy Score on test data with svm: \\n\\n')\n",
    "print(accuracy_score(y_test,pred))"
   ]
  },
  {
   "cell_type": "code",
   "execution_count": 152,
   "metadata": {},
   "outputs": [
    {
     "data": {
      "text/plain": [
       "((42776, 13), (10695, 13), (42776,), (10695,))"
      ]
     },
     "execution_count": 152,
     "metadata": {},
     "output_type": "execute_result"
    }
   ],
   "source": [
    "X_train, X_test, y_train, y_test = train_test_split(X, y, test_size=0.2, random_state=0)\n",
    "\n",
    "X_train.shape, X_test.shape, y_train.shape, y_test.shape"
   ]
  },
  {
   "cell_type": "code",
   "execution_count": 153,
   "metadata": {},
   "outputs": [
    {
     "data": {
      "text/plain": [
       "KNeighborsClassifier(algorithm='auto', leaf_size=30, metric='minkowski',\n",
       "                     metric_params=None, n_jobs=None, n_neighbors=5, p=2,\n",
       "                     weights='uniform')"
      ]
     },
     "execution_count": 153,
     "metadata": {},
     "output_type": "execute_result"
    }
   ],
   "source": [
    "# KNN\n",
    "from sklearn.neighbors import KNeighborsClassifier\n",
    "neigh = KNeighborsClassifier()\n",
    "neigh.fit(X_train, y_train)\n"
   ]
  },
  {
   "cell_type": "code",
   "execution_count": 154,
   "metadata": {},
   "outputs": [],
   "source": [
    "pred1=neigh.predict(X_test)"
   ]
  },
  {
   "cell_type": "code",
   "execution_count": 156,
   "metadata": {},
   "outputs": [
    {
     "name": "stdout",
     "output_type": "stream",
     "text": [
      "\n",
      "\n",
      "Accuracy Score on test data with knn: \n",
      "\n",
      "\n",
      "0.7290322580645161\n"
     ]
    }
   ],
   "source": [
    "print('\\n\\nAccuracy Score on test data with knn: \\n\\n')\n",
    "print(accuracy_score(y_test,pred1))"
   ]
  },
  {
   "cell_type": "code",
   "execution_count": 159,
   "metadata": {},
   "outputs": [
    {
     "name": "stderr",
     "output_type": "stream",
     "text": [
      "C:\\ProgramData\\Anaconda3\\lib\\site-packages\\sklearn\\linear_model\\_logistic.py:940: ConvergenceWarning: lbfgs failed to converge (status=1):\n",
      "STOP: TOTAL NO. of ITERATIONS REACHED LIMIT.\n",
      "\n",
      "Increase the number of iterations (max_iter) or scale the data as shown in:\n",
      "    https://scikit-learn.org/stable/modules/preprocessing.html\n",
      "Please also refer to the documentation for alternative solver options:\n",
      "    https://scikit-learn.org/stable/modules/linear_model.html#logistic-regression\n",
      "  extra_warning_msg=_LOGISTIC_SOLVER_CONVERGENCE_MSG)\n"
     ]
    }
   ],
   "source": [
    "# logistic regression\n",
    "from sklearn.linear_model import LogisticRegression\n",
    "model = LogisticRegression()\n",
    "pred2=model.fit(X_train,y_train).predict(X_test)"
   ]
  },
  {
   "cell_type": "code",
   "execution_count": 161,
   "metadata": {
    "scrolled": true
   },
   "outputs": [
    {
     "name": "stdout",
     "output_type": "stream",
     "text": [
      "\n",
      "\n",
      "Accuracy Score on test data with linear regression: \n",
      "\n",
      "\n",
      "1.0\n"
     ]
    }
   ],
   "source": [
    "pred2\n",
    "\n",
    "print('\\n\\nAccuracy Score on test data with linear regression: \\n\\n')\n",
    "print(accuracy_score(y_test,pred2))"
   ]
  },
  {
   "cell_type": "code",
   "execution_count": null,
   "metadata": {},
   "outputs": [],
   "source": []
  },
  {
   "cell_type": "code",
   "execution_count": 164,
   "metadata": {},
   "outputs": [
    {
     "name": "stdout",
     "output_type": "stream",
     "text": [
      "[0. 0. 1. 0. 0. 0. 0. 0. 0. 0. 0. 0. 0.]\n"
     ]
    },
    {
     "data": {
      "image/png": "[encoded data removed]",
      "text/plain": [
       "<Figure size 720x648 with 1 Axes>"
      ]
     },
     "metadata": {},
     "output_type": "display_data"
    }
   ],
   "source": [
    "import xgboost\n",
    "from xgboost import XGBClassifier\n",
    "from matplotlib import pyplot\n",
    "# split data into X and y\n",
    "X_train, X_test, y_train, y_test = train_test_split(X, y, test_size=0.2, random_state=0)\n",
    "# fit model no training data\n",
    "model1 = XGBClassifier()\n",
    "model1.fit(X_train,y_train)\n",
    "# feature importance\n",
    "print(model1.feature_importances_)\n",
    "# plot\n",
    "pyplot.bar(range(len(model1.feature_importances_)), model1.feature_importances_)\n",
    "pyplot.show()"
   ]
  },
  {
   "cell_type": "code",
   "execution_count": 167,
   "metadata": {},
   "outputs": [
    {
     "name": "stdout",
     "output_type": "stream",
     "text": [
      "\n",
      "\n",
      "Accuracy Score on test data with linear regression: \n",
      "\n",
      "\n",
      "1.0\n"
     ]
    }
   ],
   "source": [
    "pred3=model1.predict(X_test)\n",
    "\n",
    "print('\\n\\nAccuracy Score on test data with linear regression: \\n\\n')\n",
    "print(accuracy_score(y_test,pred3))"
   ]
  }
 ],
 "metadata": {
  "kernelspec": {
   "display_name": "Python 3",
   "language": "python",
   "name": "python3"
  },
  "language_info": {
   "codemirror_mode": {
    "name": "ipython",
    "version": 3
   },
   "file_extension": ".py",
   "mimetype": "text/x-python",
   "name": "python",
   "nbconvert_exporter": "python",
   "pygments_lexer": "ipython3",
   "version": "3.7.6"
  }
 },
 "nbformat": 4,
 "nbformat_minor": 4
}
